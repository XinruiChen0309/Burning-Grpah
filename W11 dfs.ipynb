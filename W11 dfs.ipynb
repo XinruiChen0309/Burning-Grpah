{
 "cells": [
  {
   "cell_type": "markdown",
   "metadata": {},
   "source": [
    "k sources, l rounds (k <= l)\n",
    "\n",
    "Li: 除去 i - 1 round leaves后剩下的node i<= l\n",
    "Bi: 距离burned过的nodes为1的nodes\n",
    "\n",
    "R1 = L1/B1 \n",
    "...\n",
    "Rl = Ll/Bl\n"
   ]
  },
  {
   "cell_type": "markdown",
   "metadata": {},
   "source": [
    "get matrix, k , l\n",
    "S0: initialize Ri by Li\n"
   ]
  },
  {
   "cell_type": "code",
   "execution_count": 21,
   "metadata": {},
   "outputs": [],
   "source": [
    "import networkx as nx\n",
    "from numpy.linalg import matrix_power\n",
    "import numpy as np\n",
    "import matplotlib.pyplot as plt\n",
    "import copy as cp"
   ]
  },
  {
   "cell_type": "code",
   "execution_count": 2,
   "metadata": {},
   "outputs": [
    {
     "data": {
      "image/png": "[encoded data removed]",
      "text/plain": [
       "<Figure size 432x288 with 1 Axes>"
      ]
     },
     "metadata": {},
     "output_type": "display_data"
    }
   ],
   "source": [
    "#generate\n",
    "g = nx.random_tree(20)\n",
    "# draw \n",
    "nx.draw(g, with_labels=False, font_weight='bold')\n",
    "plt.show()\n",
    "# to adj matrix\n",
    "A = nx.adjacency_matrix(g)\n",
    "A = A.todense()\n",
    "A = np.array(A)"
   ]
  },
  {
   "cell_type": "code",
   "execution_count": null,
   "metadata": {},
   "outputs": [],
   "source": [
    "'''\n",
    "input: A, k, l\n",
    "process:\n",
    "group1: list LL, ..., L1: set to contain possible sources at round 1, 2, ..., k (LL = RL)\n",
    "group2: list Rl-1, ..., R1: set to update possiible sources\n",
    "group3: variable sk, ..., s1: the sequence being burned  \n",
    "'''\n",
    "def getSeq(A, k, l):\n",
    "    #Step1: intial variables\n",
    "    LL = []\n",
    "    for i in range(l):\n",
    "        removeleaves(A, i)\n",
    "        #make list LL, ..., L1\n",
    "    #make empty list Rl-1, ..., R1\n",
    "    '''\n",
    "    For each round i: \n",
    "    1. choose possible source from R_(l+1-i), record it to si, delete it from R_(l+1-i)\n",
    "    2. update R(l + 1 -(i + 1))\n",
    "    if number of remained nodes == 0: return True and sequence [s1, s2, ..., si]\n",
    "    3. skip to i + 1\n",
    "    '''\n",
    "    for i in range(k):\n",
    "        repeat(A, LL)   \n",
    "        \n",
    "    #Step2.0:\n",
    "    if len(LL) == 0:\n",
    "        return True\n",
    "    sk = LL[0]\n",
    "    LL.remove[0]\n",
    "    \n",
    "    # Step2.1:\n",
    "    # update next level\n",
    "    LLL = burn(A, sk)\n",
    "    if len(LLL) == 0: #no nodes left \n",
    "        return True   #and sequence\n",
    "    \n",
    "    skk = LLL[0]\n",
    "    LLL.remove[0]\n",
    "    \n",
    "    '''\n",
    "    2.2\n",
    "    ...\n",
    "    2.k-1\n",
    "    \n",
    "    '''\n",
    "    \n",
    "    \n",
    "def removeleaves(A, i):\n",
    "    for i in range(A.shape[0]):\n",
    "        if np.count_nonzero(A[i]) == 1:\n",
    "           A[i] = 0\n",
    "           A[:, i] = 0         \n",
    "    return 0 \n",
    "        \n",
    "def burn(A, sk):\n",
    "    #return the nodes whose distance to being burned is <= 1 \n",
    "    return 0\n",
    "\n",
    "\n",
    "def repeat(A, L):\n",
    "    '''\n",
    "    A: matrix in this round\n",
    "    L: Nodes - Leaves \n",
    "    '''"
   ]
  },
  {
   "cell_type": "markdown",
   "metadata": {},
   "source": [
    "## 1. remove leaves"
   ]
  },
  {
   "cell_type": "code",
   "execution_count": 15,
   "metadata": {},
   "outputs": [],
   "source": [
    "def removeleaves(A):\n",
    "    todelete = []\n",
    "    for i in range(A.shape[0]):\n",
    "        if np.count_nonzero(A[i]) == 1:\n",
    "           todelete.append(i)\n",
    "           \n",
    "    for j in range(len(todelete)):\n",
    "        A[todelete[j]] = 0\n",
    "        A[:, todelete[j]] = 0         \n",
    "    return A"
   ]
  },
  {
   "cell_type": "code",
   "execution_count": 20,
   "metadata": {},
   "outputs": [
    {
     "data": {
      "image/png": "[encoded data removed]",
      "text/plain": [
       "<Figure size 432x288 with 1 Axes>"
      ]
     },
     "metadata": {},
     "output_type": "display_data"
    },
    {
     "name": "stdout",
     "output_type": "stream",
     "text": [
      "[[0 1 1 0]\n",
      " [1 0 0 0]\n",
      " [1 0 0 1]\n",
      " [0 0 1 0]]\n",
      "round  0\n",
      "[[0 0 1 0]\n",
      " [0 0 0 0]\n",
      " [1 0 0 0]\n",
      " [0 0 0 0]]\n",
      "round  1\n",
      "[[0 0 0 0]\n",
      " [0 0 0 0]\n",
      " [0 0 0 0]\n",
      " [0 0 0 0]]\n"
     ]
    }
   ],
   "source": [
    "##Test remove leaves\n",
    "g = nx.random_tree(4)\n",
    "nx.draw(g, with_labels=True, font_weight='bold')\n",
    "plt.show()\n",
    "\n",
    "A = nx.adjacency_matrix(g)\n",
    "A = A.todense()\n",
    "A = np.array(A)\n",
    "\n",
    "print(A)\n",
    "for i in range(10):\n",
    "    if np.sum(A) == 0:\n",
    "        break\n",
    "    A = removeleaves(A)\n",
    "    print(\"round \", i )\n",
    "    print(A)\n",
    "    "
   ]
  },
  {
   "cell_type": "markdown",
   "metadata": {},
   "source": [
    "## 2. make lists"
   ]
  },
  {
   "cell_type": "code",
   "execution_count": 38,
   "metadata": {},
   "outputs": [
    {
     "data": {
      "image/png": "[encoded data removed]",
      "text/plain": [
       "<Figure size 432x288 with 1 Axes>"
      ]
     },
     "metadata": {},
     "output_type": "display_data"
    },
    {
     "ename": "RuntimeError",
     "evalue": "dictionary changed size during iteration",
     "output_type": "error",
     "traceback": [
      "\u001b[1;31m---------------------------------------------------------------------------\u001b[0m",
      "\u001b[1;31mRuntimeError\u001b[0m                              Traceback (most recent call last)",
      "\u001b[1;32mC:\\Users\\Public\\Documents\\Wondershare\\CreatorTemp/ipykernel_16824/4169371115.py\u001b[0m in \u001b[0;36m<module>\u001b[1;34m\u001b[0m\n\u001b[0;32m     33\u001b[0m \u001b[1;32mfor\u001b[0m \u001b[0mi\u001b[0m \u001b[1;32min\u001b[0m \u001b[0mrange\u001b[0m\u001b[1;33m(\u001b[0m\u001b[0ml\u001b[0m\u001b[1;33m)\u001b[0m\u001b[1;33m:\u001b[0m\u001b[1;33m\u001b[0m\u001b[1;33m\u001b[0m\u001b[0m\n\u001b[0;32m     34\u001b[0m     \u001b[0mgetL\u001b[0m\u001b[1;33m(\u001b[0m\u001b[0mg\u001b[0m\u001b[1;33m,\u001b[0m \u001b[0mi\u001b[0m\u001b[1;33m)\u001b[0m\u001b[1;33m\u001b[0m\u001b[1;33m\u001b[0m\u001b[0m\n\u001b[1;32m---> 35\u001b[1;33m     \u001b[1;32mfor\u001b[0m \u001b[0mx\u001b[0m \u001b[1;32min\u001b[0m \u001b[0mg\u001b[0m\u001b[1;33m.\u001b[0m\u001b[0mnodes\u001b[0m\u001b[1;33m(\u001b[0m\u001b[1;33m)\u001b[0m\u001b[1;33m:\u001b[0m\u001b[1;33m\u001b[0m\u001b[1;33m\u001b[0m\u001b[0m\n\u001b[0m\u001b[0;32m     36\u001b[0m         \u001b[1;32mif\u001b[0m \u001b[0mg\u001b[0m\u001b[1;33m.\u001b[0m\u001b[0mdegree\u001b[0m\u001b[1;33m(\u001b[0m\u001b[0mx\u001b[0m\u001b[1;33m)\u001b[0m\u001b[1;33m==\u001b[0m\u001b[1;36m1\u001b[0m\u001b[1;33m:\u001b[0m\u001b[1;33m\u001b[0m\u001b[1;33m\u001b[0m\u001b[0m\n\u001b[0;32m     37\u001b[0m             \u001b[0mg\u001b[0m\u001b[1;33m.\u001b[0m\u001b[0mremove_node\u001b[0m\u001b[1;33m(\u001b[0m\u001b[0mx\u001b[0m\u001b[1;33m)\u001b[0m\u001b[1;33m\u001b[0m\u001b[1;33m\u001b[0m\u001b[0m\n",
      "\u001b[1;31mRuntimeError\u001b[0m: dictionary changed size during iteration"
     ]
    }
   ],
   "source": [
    "g = nx.random_tree(4)\n",
    "nx.draw(g, with_labels=True, font_weight='bold')\n",
    "plt.show()\n",
    "\n",
    "A = nx.adjacency_matrix(g)\n",
    "A = A.todense()\n",
    "A = np.array(A)\n",
    "\n",
    "N = A.shape[0]\n",
    "l = 2\n",
    "L = np.zeros([N,N]) # matrix to store the left node set\n",
    "\n",
    "L[0] = np.ones([N])\n",
    "\n",
    "#1\n",
    "def getLeftSet(A, l, N):\n",
    "    print(A)\n",
    "    #remove leaves for l rounds\n",
    "    for i in range(l):\n",
    "        if np.sum(A) == 0:\n",
    "            break\n",
    "        A = removeleaves(A)\n",
    "        print(A)\n",
    "        #update remain nodes \n",
    "        for j in range(N):\n",
    "            if np.count_nonzero(A[j]) != 0:\n",
    "                print(\"here\")\n",
    "                L[i+1][j] = 1\n",
    "#2\n",
    "def getL(g, i):\n",
    "    temp = [x for x in g.nodes() if g.degree(x)!=1]\n",
    "    for j in range(len(temp)):\n",
    "        L[i+1][temp[j]] = 1\n",
    "for i in range(l):\n",
    "    getL(g, i)\n",
    "    for x in g.nodes():\n",
    "        if g.degree(x)==1:\n",
    "            g.remove_node(x)\n",
    "L"
   ]
  },
  {
   "cell_type": "markdown",
   "metadata": {},
   "source": [
    "## Another way"
   ]
  },
  {
   "cell_type": "code",
   "execution_count": 24,
   "metadata": {},
   "outputs": [
    {
     "data": {
      "image/png": "[encoded data removed]",
      "text/plain": [
       "<Figure size 432x288 with 1 Axes>"
      ]
     },
     "metadata": {},
     "output_type": "display_data"
    }
   ],
   "source": [
    "# generate\n",
    "N = 9\n",
    "g = nx.random_tree(N)\n",
    "g_copy = cp.deepcopy(g)\n",
    "# draw \n",
    "nx.draw(g, with_labels=True, font_weight='bold')\n",
    "plt.show()"
   ]
  },
  {
   "cell_type": "code",
   "execution_count": 56,
   "metadata": {},
   "outputs": [
    {
     "data": {
      "text/plain": [
       "[array([0, 1, 2, 3, 4, 5, 6, 7, 8])]"
      ]
     },
     "execution_count": 56,
     "metadata": {},
     "output_type": "execute_result"
    }
   ],
   "source": [
    "k = 3\n",
    "l = 3\n",
    "#1. list detect whether all nodes are visited\n",
    "# 0: visited; 1: unvisited \n",
    "visited = np.ones([N]) \n",
    "#2. N*N matrix: ith row is Li\n",
    "'''\n",
    "L_matrix = np.zeros([l+1,N])  \n",
    "L_matrix[0] = np.ones([N])\n",
    "'''\n",
    "L_list = []\n",
    "notimportant = np.arange(N)\n",
    "L_list.append(notimportant)\n",
    "L_list"
   ]
  },
  {
   "cell_type": "markdown",
   "metadata": {},
   "source": [
    "# makeLL"
   ]
  },
  {
   "cell_type": "code",
   "execution_count": 58,
   "metadata": {},
   "outputs": [
    {
     "data": {
      "image/png": "[encoded data removed]",
      "text/plain": [
       "<Figure size 432x288 with 1 Axes>"
      ]
     },
     "metadata": {},
     "output_type": "display_data"
    },
    {
     "data": {
      "image/png": "[encoded data removed]",
      "text/plain": [
       "<Figure size 432x288 with 1 Axes>"
      ]
     },
     "metadata": {},
     "output_type": "display_data"
    },
    {
     "data": {
      "image/png": "[encoded data removed]",
      "text/plain": [
       "<Figure size 432x288 with 1 Axes>"
      ]
     },
     "metadata": {},
     "output_type": "display_data"
    },
    {
     "data": {
      "text/plain": [
       "[array([0, 1, 2, 3, 4, 5, 6, 7, 8]), [1, 5, 6, 7, 8], [7, 8], []]"
      ]
     },
     "execution_count": 58,
     "metadata": {},
     "output_type": "execute_result"
    }
   ],
   "source": [
    "def updateL(input):\n",
    "    '''\n",
    "    1. get all leaves\n",
    "    2. delete all leaves\n",
    "    '''\n",
    "    #get all leaves\n",
    "    temp = [x for x in g.nodes() if g.degree(x)==1]\n",
    "    #remove leaves from graph\n",
    "    for i in range(len(temp)):\n",
    "        g.remove_node(temp[i])\n",
    "    ''' '''#uncomment to show process graphs\n",
    "    nx.draw(g, with_labels=True, font_weight='bold')\n",
    "    plt.show()\n",
    "    ''' '''\n",
    "    return [x for x in input if x not in temp]# return all non-leaves; input: rest vertex, \n",
    "\n",
    "g = cp.deepcopy(g_copy)\n",
    "initial = range(N)\n",
    "for i in range(l):\n",
    "    leaves = updateL(initial) #get leaves left over\n",
    "    initial = cp.deepcopy(leaves)\n",
    "    L_list.append(initial)\n",
    "    #print(leaves, len(leaves))\n",
    "    ''' back up plan for L matrix\n",
    "    for j in range(N):\n",
    "        if j in leaves:\n",
    "            #print(i+1, j)\n",
    "            L_matrix[i+1][j] = 1  \n",
    "    '''\n",
    "L_list"
   ]
  },
  {
   "cell_type": "markdown",
   "metadata": {},
   "source": [
    "## make BB: pick source, burning graph, update R"
   ]
  },
  {
   "cell_type": "code",
   "execution_count": 59,
   "metadata": {},
   "outputs": [
    {
     "data": {
      "text/plain": [
       "array([-1, -2, -3, -4])"
      ]
     },
     "execution_count": 59,
     "metadata": {},
     "output_type": "execute_result"
    }
   ],
   "source": [
    "#initialize R and source\n",
    "R_list = cp.copy(L_list)\n",
    "source = -1*np.arange(1, l+2)\n",
    "source"
   ]
  },
  {
   "cell_type": "code",
   "execution_count": null,
   "metadata": {},
   "outputs": [],
   "source": []
  }
 ],
 "metadata": {
  "interpreter": {
   "hash": "93d2c5fae0cb062bda0a6de842d27e3b38c21e07c668431916235054c28d155b"
  },
  "kernelspec": {
   "display_name": "Python 3.9.7 ('base')",
   "language": "python",
   "name": "python3"
  },
  "language_info": {
   "codemirror_mode": {
    "name": "ipython",
    "version": 3
   },
   "file_extension": ".py",
   "mimetype": "text/x-python",
   "name": "python",
   "nbconvert_exporter": "python",
   "pygments_lexer": "ipython3",
   "version": "3.9.7"
  },
  "orig_nbformat": 4
 },
 "nbformat": 4,
 "nbformat_minor": 2
}
