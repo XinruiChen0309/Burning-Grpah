{
 "cells": [
  {
   "cell_type": "markdown",
   "metadata": {},
   "source": [
    "## PS\n",
    "* run anything above work space  \n",
    "* then modify L and K "
   ]
  },
  {
   "cell_type": "code",
   "execution_count": 23,
   "metadata": {},
   "outputs": [],
   "source": [
    "import networkx as nx\n",
    "from numpy.linalg import matrix_power\n",
    "import numpy as np\n",
    "import matplotlib.pyplot as plt\n",
    "import copy as cp\n",
    "import math\n",
    "from tqdm import tqdm\n",
    "import sys, os"
   ]
  },
  {
   "cell_type": "code",
   "execution_count": null,
   "metadata": {},
   "outputs": [],
   "source": []
  },
  {
   "cell_type": "code",
   "execution_count": 151,
   "metadata": {},
   "outputs": [],
   "source": [
    "#plt.rcParams[\"figure.figsize\"] = (18, 13)"
   ]
  },
  {
   "cell_type": "code",
   "execution_count": 24,
   "metadata": {},
   "outputs": [],
   "source": [
    "def isklburnable(g, k, l):\n",
    "    '''\n",
    "    input:\n",
    "    g: graph with networkx form\n",
    "    k: number of sources\n",
    "    l: number of rounds\n",
    "    '''\n",
    "    ############################################ Step0: get information\n",
    "    N = nx.number_of_nodes(g)\n",
    "    g_copy = cp.deepcopy(g)\n",
    "    ''''''\n",
    "    ########################################### Step1: get L\n",
    "    L_list, tellburnfromL = getL(g, N, l, k)\n",
    "    print(tellburnfromL)\n",
    "    if tellburnfromL == True:\n",
    "        return np.array(L_list[0]), [x for x in g.nodes()], True\n",
    "    \n",
    "    ########################################### Step2: initial\n",
    "    source = -1*np.ones(k) #burnding sequence\n",
    "    bestsequence = [[], []] #1st entry: burning sequence; 2nd: number of burned nodes by this bs\n",
    "    \n",
    "    R_dynamic = [cp.copy(L_list[0])]\n",
    "    burned = []\n",
    "    level_burned = [[]] \n",
    "    burned, source, level_burned, R_dynamic = updateR(k, L_list, g, 0, burned, source, level_burned, R_dynamic)\n",
    "    \n",
    "    #New check\n",
    "    if len(burned) == N:\n",
    "        return source, burned, True \n",
    "\n",
    "    ########################################### Step3: loop   \n",
    "    while len(R_dynamic) != 0:\n",
    "        while len(R_dynamic[k - 1]) != 0:\n",
    "            '''1. check: finish burn k rounds'''\n",
    "            # 1.1 pick source at end of round\n",
    "            source[k - 1] = R_dynamic[k - 1][0] # pick 1st \n",
    "            R_dynamic[k-1].remove(R_dynamic[k - 1][0]) #remove 1st\n",
    "            burned.append(source[k-1]) \n",
    "            burned = list(set(burned))\n",
    "            \n",
    "            if len(burned) == N:\n",
    "                return source, burned, True\n",
    "           \n",
    "            '''2. burned B for rest rounds'''\n",
    "            B = cp.copy(burned)# assign for iteration\n",
    "            for rest_rounds in range(l - k): #l-k\n",
    "                B = findB(B, g)\n",
    "                B = list(set(burned))# remove replication\n",
    "                if len(B) == N:\n",
    "                    return source, B, True\n",
    "                \n",
    "            '''3. fail to burn '''\n",
    "            burned.remove(source[k-1])\n",
    "            if len(bestsequence[1]) < len(B):\n",
    "                print('Best sequence', bestsequence[0], bestsequence[1])\n",
    "                bestsequence[0] = cp.copy(source)\n",
    "                bestsequence[1] = cp.copy(B)    \n",
    "        \n",
    "        \n",
    "        #update variables to return \n",
    "        source[k-1] = -1\n",
    "        del R_dynamic[-1]  \n",
    "        level_burned[k - 2].remove(source[k - 2])\n",
    "        del level_burned[k-1]\n",
    "        upburned = []\n",
    "        for i in level_burned:\n",
    "            upburned = upburned + i\n",
    "        \n",
    "        burned, source, level_burned, R_dynamic = updateR(k, L_list, g, k-2, upburned, source, level_burned, R_dynamic) #go back to upper level 0, 1, ..., k-2, k-1 \n",
    "        \n",
    "        if len(burned) == N:\n",
    "            return source, burned, True  \n",
    "    \n",
    "    return bestsequence[0], bestsequence[1], False\n",
    "\n",
    "def getL(g, N, l, k):\n",
    "    L_list = [[x for x in g.nodes()]]\n",
    "    tellburnedfromL = False\n",
    "    num_remove = 0\n",
    "    \n",
    "    gl = cp.deepcopy(g) #used for l\n",
    "    initial = range(N) \n",
    "    for i in range(l - 1):\n",
    "        leaves = updateL(initial, gl)\n",
    "        initial = cp.deepcopy(leaves)\n",
    "        L_list.append(initial)\n",
    "    L_list.reverse()\n",
    "    \n",
    "    while(len(L_list[0]) == 0):\n",
    "      del L_list[0]\n",
    "      tellburnedfromL = True\n",
    "      num_remove = num_remove + 1\n",
    "    if len(L_list[0]) == 1:\n",
    "      tellburnedfromL = True\n",
    "    '''\n",
    "    print(\"1得到L\")\n",
    "    print(L_list)\n",
    "    print(\"\\n\")\n",
    "    '''\n",
    "    return L_list, tellburnedfromL\n",
    "\n",
    "def updateL(input, g):#S1 get all leaves\n",
    "    temp = [x for x in g.nodes() if g.degree(x)<=1] \n",
    "  #S2.1 remove leaves from graph\n",
    "    for i in range(len(temp)): \n",
    "      g.remove_node(temp[i])\n",
    "  #S2.2 return all non-leaves \n",
    "    return [x for x in input if x not in temp]\n",
    "\n",
    "def findB(burned, gg):\n",
    "    '''\n",
    "        input: \n",
    "        a) burned: list of burned nodes\n",
    "        b) gg: total graph\n",
    "        output:\n",
    "        nodes_burned_till_this_round\n",
    "    '''\n",
    "    nodes_burned_till_this_round = cp.copy(burned)\n",
    "    # find all bunred vertice's neignbors\n",
    "    for this_node in burned:\n",
    "        nb_of_source = nx.all_neighbors(gg, this_node)\n",
    "            \n",
    "        for x in nb_of_source:\n",
    "            if x not in nodes_burned_till_this_round: # keep unique\n",
    "                nodes_burned_till_this_round.append(x)\n",
    "    \n",
    "    return nodes_burned_till_this_round #返回B set\n",
    "\n",
    "def updateR(k, L_list, g, num, burned, source, level_burned, R_dynamic):\n",
    "    # 0 judge and recursion\n",
    "    '''0 precheck: walk upwards if the R set this level is empty'''\n",
    "    if len(R_dynamic[num]) == 0: #this row does not exist\n",
    "        if num == 0:\n",
    "            del R_dynamic[-1]\n",
    "            return burned, source, level_burned, R_dynamic\n",
    "            \n",
    "        del R_dynamic[num]\n",
    "        del level_burned[num]\n",
    "        level_burned[num - 1].remove(source[num - 1])\n",
    "        \n",
    "        #upburned will replace burned\n",
    "        upburned = []\n",
    "        for i in level_burned:\n",
    "            upburned = upburned + i\n",
    "        \n",
    "        burned, source, level_burned, R_dynamic = updateR(k, L_list, g, num - 1, upburned, source, level_burned, R_dynamic)\n",
    "        return burned, source, level_burned, R_dynamic\n",
    "\n",
    "\n",
    "    '''1 normal process'''    \n",
    "    # 1.the process of pick new source after burning\n",
    "    \n",
    "    max_degree = -1\n",
    "    for i in R_dynamic[num]:\n",
    "        if g.degree[i] > max_degree:\n",
    "            source[num] = i\n",
    "            max_degree = g.degree[i]\n",
    "            \n",
    "    R_dynamic[num].remove(source[num])\n",
    "    burned.append(source[num])\n",
    "    burned = list(set(burned)) # remove\n",
    "    old_burned = cp.copy(burned)\n",
    "    level_burned[num].append(source[num])\n",
    "\n",
    "    # 2. update R\n",
    "    # 2.1 get all burned nodes(B) in this round\n",
    "    B = findB(burned, g)#TODO: copy? # PS: 也可以让findB只返回新burn的vertices\n",
    "    # 2.2 update level_burn\n",
    "    level_burned.append([node for node in B if node not in old_burned])#all burned this round - all burned last round\n",
    "    burned = cp.copy(B) #update burn\n",
    "    # 2.3 get L/B and update to the total R\n",
    "    R_next_level = [node for node in L_list[num + 1] if node not in burned] #update R next level\n",
    "    # deal with empty R\n",
    "    if len(R_next_level) == 0:\n",
    "        # case1: no lower options\n",
    "        if num + 2 == len(L_list): \n",
    "            return burned, source, level_burned, R_dynamic\n",
    "        \n",
    "        # case2: walk down\n",
    "        for inner_num in range(num + 2, len(L_list)): #choose [num + 2, ..., l - 1]\n",
    "            R_next_level = [node for node in L_list[inner_num] if node not in burned]\n",
    "            # A. get new set, end find\n",
    "            if len(R_next_level) != 0:\n",
    "                break\n",
    "            # B. reach end and all empty\n",
    "            if inner_num == len(L_list) - 1:\n",
    "                R_dynamic.append(R_next_level)#put empty ?\n",
    "                return burned, source, level_burned, R_dynamic\n",
    "          \n",
    "    R_dynamic.append(R_next_level)\n",
    "    # 3. Walk down: if have not reach the k-1 level， to next level(0, 1, ..., k-2, k-1)\n",
    "    if num < k - 2: #TODO: deal with new change of L_list (and num < len(L_list) - 2)\n",
    "        burned, source, level_burned, R_dynamic = updateR(k, L_list, g, num + 1, burned, source, level_burned, R_dynamic)   \n",
    "    return burned, source, level_burned, R_dynamic\n",
    "  "
   ]
  },
  {
   "cell_type": "code",
   "execution_count": 49,
   "metadata": {},
   "outputs": [],
   "source": [
    "def show(G, sources, burnt):\n",
    "    labels = {}\n",
    "    valid_source = len(sources)\n",
    "    for i in range(len(sources)):\n",
    "        if sources[i] != -1:\n",
    "            labels[sources[i]] = i + 1\n",
    "        if sources[i] == -1:\n",
    "            valid_source = i\n",
    "            break\n",
    "            \n",
    "    print(labels, len(labels))\n",
    "    \n",
    "    pos=nx.spring_layout(G)\n",
    "    ''' '''\n",
    "    pos_copy = cp.copy(pos)\n",
    "    #nx.draw_networkx(G, pos=pos_copy,arrows=None, node_color=\"tab:green\", with_labels=True)\n",
    "    \n",
    "    \n",
    "    nx.draw_networkx(G, pos=pos,arrows=None, node_color = \"tab:green\",with_labels=False)    # plot original graph\n",
    "    nx.draw_networkx(G, pos=pos,nodelist = burnt,arrows=None, node_color=\"tab:blue\",with_labels=False) # represent burnt nd\n",
    "    \n",
    "    if (len(labels) != 0) :\n",
    "        nx.draw_networkx(G, pos=pos,nodelist = sources[:valid_source],arrows=None, node_color=\"tab:red\",with_labels=False) # represnet sources\n",
    "        description = nx.draw_networkx_labels(G,pos=pos,labels=labels)    # plot sources' \n",
    "    \n",
    "    fig = plt.gcf()\n",
    "    fig.set_size_inches(30, 20)\n",
    "    plt.show()\n",
    "\n",
    "def drawgraph(g_target, k, l):\n",
    "    gs, gb, gt = isklburnable(g_target, k, l)\n",
    "    print(\"can burned\", gt)\n",
    "    print(\"burning sequence is\", gs)\n",
    "    show(g_target, gs, gb)   \n"
   ]
  },
  {
   "cell_type": "markdown",
   "metadata": {},
   "source": [
    "# Work space"
   ]
  },
  {
   "cell_type": "code",
   "execution_count": 154,
   "metadata": {},
   "outputs": [],
   "source": [
    "N = 23\n",
    "k = 23\n",
    "test_graph = nx.path_graph(36)\n"
   ]
  },
  {
   "cell_type": "code",
   "execution_count": null,
   "metadata": {},
   "outputs": [],
   "source": [
    "test_graph2 = nx.random_tree(N*k)\n",
    "drawgraph(test_graph2, k, N)"
   ]
  },
  {
   "cell_type": "code",
   "execution_count": 26,
   "metadata": {},
   "outputs": [],
   "source": [
    "file = open(\"trees.txt\")\n",
    "data = []\n",
    "n = 0\n",
    "matrix = []\n",
    "for i in file.readlines():\n",
    "    #print(i)\n",
    "    if i == \"\\n\":\n",
    "        data.append(matrix)\n",
    "        #print(matrix)\n",
    "        matrix = []\n",
    "    else:\n",
    "        row = []\n",
    "        nodes = i.split(\" \")\n",
    "        for n in nodes:\n",
    "            row.append(int(n[0]))\n",
    "        matrix.append(row)"
   ]
  },
  {
   "cell_type": "code",
   "execution_count": 47,
   "metadata": {},
   "outputs": [
    {
     "name": "stdout",
     "output_type": "stream",
     "text": [
      "True\n",
      "can burned True\n",
      "burning sequence is [6]\n",
      "{6: 1} 1\n"
     ]
    },
    {
     "data": {
      "image/png": "[encoded data removed]",
      "text/plain": [
       "<Figure size 2160x1440 with 1 Axes>"
      ]
     },
     "metadata": {},
     "output_type": "display_data"
    }
   ],
   "source": [
    "x = np.array(data[90])\n",
    "n = x.shape[0]\n",
    "k = math.ceil(pow(n,0.5))\n",
    "l = k\n",
    "g = nx.from_numpy_matrix(x)\n",
    "drawgraph(g, k, l)"
   ]
  },
  {
   "cell_type": "code",
   "execution_count": 29,
   "metadata": {},
   "outputs": [],
   "source": [
    "\n",
    "def check(data):\n",
    "    for i in tqdm(range(len(data))):\n",
    "        \n",
    "        if len(data[i]) != 0:\n",
    "            x = np.array(data[i])\n",
    "            n = x.shape[0]\n",
    "            k = math.ceil(pow(n,0.5)) - 1\n",
    "            l = k\n",
    "            g = nx.from_numpy_matrix(x)\n",
    "            gs, gb, gt = isklburnable(g, k, l)\n",
    "            if gt == False:\n",
    "                \n",
    "                yield show(g, gs, gb)\n",
    "        \n",
    "        \n",
    "    "
   ]
  },
  {
   "cell_type": "code",
   "execution_count": 48,
   "metadata": {},
   "outputs": [
    {
     "name": "stderr",
     "output_type": "stream",
     "text": [
      "  0%|          | 1/308 [01:38<8:24:52, 98.67s/it]\n"
     ]
    }
   ],
   "source": [
    "result = check(data)"
   ]
  },
  {
   "cell_type": "code",
   "execution_count": 53,
   "metadata": {},
   "outputs": [
    {
     "ename": "StopIteration",
     "evalue": "",
     "output_type": "error",
     "traceback": [
      "\u001b[0;31m---------------------------------------------------------------------------\u001b[0m",
      "\u001b[0;31mStopIteration\u001b[0m                             Traceback (most recent call last)",
      "\u001b[0;32m<ipython-input-53-709396a5599b>\u001b[0m in \u001b[0;36m<module>\u001b[0;34m\u001b[0m\n\u001b[0;32m----> 1\u001b[0;31m \u001b[0mnext\u001b[0m\u001b[0;34m(\u001b[0m\u001b[0mresult\u001b[0m\u001b[0;34m)\u001b[0m\u001b[0;34m\u001b[0m\u001b[0;34m\u001b[0m\u001b[0m\n\u001b[0m",
      "\u001b[0;31mStopIteration\u001b[0m: "
     ]
    }
   ],
   "source": [
    "next(result)"
   ]
  }
 ],
 "metadata": {
  "interpreter": {
   "hash": "93d2c5fae0cb062bda0a6de842d27e3b38c21e07c668431916235054c28d155b"
  },
  "kernelspec": {
   "display_name": "Python 3",
   "language": "python",
   "name": "python3"
  },
  "language_info": {
   "codemirror_mode": {
    "name": "ipython",
    "version": 3
   },
   "file_extension": ".py",
   "mimetype": "text/x-python",
   "name": "python",
   "nbconvert_exporter": "python",
   "pygments_lexer": "ipython3",
   "version": "3.8.5"
  }
 },
 "nbformat": 4,
 "nbformat_minor": 2
}
