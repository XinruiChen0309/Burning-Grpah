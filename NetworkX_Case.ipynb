{
 "cells": [
  {
   "cell_type": "code",
   "execution_count": 3,
   "metadata": {},
   "outputs": [],
   "source": [
    "import networkx as nx\n",
    "from numpy.linalg import matrix_power\n",
    "import numpy as np\n",
    "import matplotlib.pyplot as plt"
   ]
  },
  {
   "cell_type": "code",
   "execution_count": 19,
   "metadata": {},
   "outputs": [
    {
     "data": {
      "image/png": "[encoded data removed]",
      "text/plain": [
       "<Figure size 432x288 with 1 Axes>"
      ]
     },
     "metadata": {},
     "output_type": "display_data"
    }
   ],
   "source": [
    "g = nx.random_tree(8)\n",
    "nx.draw(g, with_labels=True, font_weight='bold')\n",
    "A = nx.adjacency_matrix(g)\n",
    "plt.show()"
   ]
  },
  {
   "cell_type": "code",
   "execution_count": 20,
   "metadata": {},
   "outputs": [
    {
     "data": {
      "text/plain": [
       "<Figure size 432x288 with 0 Axes>"
      ]
     },
     "metadata": {},
     "output_type": "display_data"
    }
   ],
   "source": [
    "plt.savefig('output.png')"
   ]
  },
  {
   "cell_type": "code",
   "execution_count": 16,
   "metadata": {},
   "outputs": [
    {
     "data": {
      "text/plain": [
       "array([[0, 0, 0, 1, 0, 0, 1, 0],\n",
       "       [0, 0, 1, 0, 0, 1, 1, 0],\n",
       "       [0, 1, 0, 0, 0, 0, 0, 1],\n",
       "       [1, 0, 0, 0, 0, 0, 0, 0],\n",
       "       [0, 0, 0, 0, 0, 1, 0, 0],\n",
       "       [0, 1, 0, 0, 1, 0, 0, 0],\n",
       "       [1, 1, 0, 0, 0, 0, 0, 0],\n",
       "       [0, 0, 1, 0, 0, 0, 0, 0]])"
      ]
     },
     "execution_count": 16,
     "metadata": {},
     "output_type": "execute_result"
    }
   ],
   "source": [
    "#print(A.todense())\n",
    "A = A.todense()\n",
    "A = np.array(A)\n",
    "A"
   ]
  },
  {
   "cell_type": "code",
   "execution_count": 34,
   "metadata": {},
   "outputs": [
    {
     "data": {
      "image/png": "[encoded data removed]",
      "text/plain": [
       "<Figure size 432x288 with 1 Axes>"
      ]
     },
     "metadata": {},
     "output_type": "display_data"
    }
   ],
   "source": [
    "# convert adjacent matrix to networkx graph\n",
    "g = nx.Graph(A)   # A is the adjacent matrix(numpy array)\n",
    "nx.draw(g, with_labels=True, font_weight='bold') "
   ]
  },
  {
   "cell_type": "code",
   "execution_count": 177,
   "metadata": {},
   "outputs": [],
   "source": [
    "from numpy.linalg import matrix_power\n",
    "import numpy as np\n",
    "\n",
    "def matrix_B(A,k):    # compute B = A + A^2 + A^3 + ... + A^k\n",
    "    #A = A.todense()\n",
    "    n = A.shape[0]\n",
    "    B = np.zeros(A.shape)   # B is a 2D array\n",
    "    for i in range(k):\n",
    "        B += matrix_power(A,k+1)\n",
    "    for i in range(n):\n",
    "        for j in range(n):\n",
    "            if B[i][j] > 0:\n",
    "                B[i][j] = 1\n",
    "    return B\n",
    "\n",
    "def max_row(B):    # return the row with max sum\n",
    "    num = 0\n",
    "    maxrow = 0\n",
    "    for i in range(B.shape[0]):\n",
    "        if np.sum(B[i]) > num:\n",
    "            num = np.sum(B[i])\n",
    "            maxrow = i\n",
    "    return maxrow"
   ]
  },
  {
   "cell_type": "code",
   "execution_count": 178,
   "metadata": {},
   "outputs": [
    {
     "name": "stdout",
     "output_type": "stream",
     "text": [
      "[[1. 1. 1. 0. 0. 0. 0. 1.]\n",
      " [1. 1. 1. 0. 0. 0. 1. 1.]\n",
      " [1. 1. 1. 0. 0. 0. 1. 1.]\n",
      " [0. 0. 0. 1. 1. 1. 0. 0.]\n",
      " [0. 0. 0. 1. 1. 1. 0. 0.]\n",
      " [0. 0. 0. 1. 1. 1. 0. 0.]\n",
      " [0. 1. 1. 0. 0. 0. 1. 0.]\n",
      " [1. 1. 1. 0. 0. 0. 0. 1.]]\n"
     ]
    }
   ],
   "source": [
    "B = matrix_B(A,3)\n",
    "print(B)"
   ]
  },
  {
   "cell_type": "code",
   "execution_count": 179,
   "metadata": {},
   "outputs": [
    {
     "data": {
      "text/plain": [
       "1"
      ]
     },
     "execution_count": 179,
     "metadata": {},
     "output_type": "execute_result"
    }
   ],
   "source": [
    "max_row(B) "
   ]
  },
  {
   "cell_type": "code",
   "execution_count": 173,
   "metadata": {},
   "outputs": [],
   "source": [
    "def leaves(A):    # list of node i be degree 1 \n",
    "    n = A.shape[0]\n",
    "    start = []\n",
    "    for i in range(n):\n",
    "        if np.sum(A[i]) == 1:\n",
    "            start.append(i)\n",
    "    return start    # int list\n",
    "\n",
    "def pendant_path(A,i):   # return the length of the pendant graph start from leave node i \n",
    "    n = A.shape[0]\n",
    "    length = 0        # record length\n",
    "    leave = i         \n",
    "    while True:\n",
    "        if i == leave:\n",
    "            for j in range(n):\n",
    "                if A[i,j] == 1:    # if the checking node is the first node(leave)\n",
    "                    i_last = i\n",
    "                    i = j\n",
    "                    length +=1    \n",
    "                    break\n",
    "        elif np.sum(A[i]) == 2 and A[i,i_last] == 1.0:\n",
    "            for j in range(n):\n",
    "                if A[i,j] == 1 and j != i_last:       # if the checking node is degree 2 node within\n",
    "                    i_last = i\n",
    "                    i = j\n",
    "                    length +=1\n",
    "                    break\n",
    "        else:         # break if the pendant path end with the node with degree larger than 3\n",
    "            break\n",
    "    return length\n",
    "\n",
    "def max_pendant_path(A,start):  # return the max length of pendant path in the graph given leave nodes list start\n",
    "    num = 0\n",
    "    for leave in start:\n",
    "        length = pendant_path(A,leave)\n",
    "        if length > num:\n",
    "            num = length        \n",
    "    return num\n",
    "                \n",
    "    "
   ]
  },
  {
   "cell_type": "code",
   "execution_count": 174,
   "metadata": {
    "scrolled": true
   },
   "outputs": [
    {
     "name": "stdout",
     "output_type": "stream",
     "text": [
      "<class 'numpy.matrix'>\n",
      "[[0 0 0 0 0 1 0 0]\n",
      " [0 0 0 1 0 1 0 0]\n",
      " [0 0 0 1 1 0 0 0]\n",
      " [0 1 1 0 0 0 0 0]\n",
      " [0 0 1 0 0 0 1 0]\n",
      " [1 1 0 0 0 0 0 1]\n",
      " [0 0 0 0 1 0 0 0]\n",
      " [0 0 0 0 0 1 0 0]]\n"
     ]
    },
    {
     "data": {
      "text/plain": [
       "5"
      ]
     },
     "execution_count": 174,
     "metadata": {},
     "output_type": "execute_result"
    }
   ],
   "source": [
    "A = A.todense()\n",
    "print(type(A))\n",
    "start = leaves(A)\n",
    "print(A)\n",
    "max_pendant_path(A,start)"
   ]
  },
  {
   "cell_type": "code",
   "execution_count": 22,
   "metadata": {},
   "outputs": [],
   "source": [
    "import matplotlib.pyplot as plt"
   ]
  },
  {
   "cell_type": "code",
   "execution_count": 21,
   "metadata": {},
   "outputs": [
    {
     "data": {
      "image/png": "[encoded data removed]",
      "text/plain": [
       "<Figure size 432x288 with 1 Axes>"
      ]
     },
     "metadata": {},
     "output_type": "display_data"
    }
   ],
   "source": [
    "# example\n",
    "G = nx.random_tree(5)\n",
    "nx.draw(G, with_labels=True, font_weight='bold')  # plot original graph"
   ]
  },
  {
   "cell_type": "code",
   "execution_count": 32,
   "metadata": {},
   "outputs": [
    {
     "data": {
      "image/png": "[encoded data removed]",
      "text/plain": [
       "<Figure size 432x288 with 1 Axes>"
      ]
     },
     "metadata": {},
     "output_type": "display_data"
    }
   ],
   "source": [
    "# task \n",
    "pos=nx.spring_layout(G)\n",
    "nx.draw_networkx(G, pos=pos,arrows=None, with_labels=False)    # plot original graph\n",
    "nx.draw_networkx(G, pos=pos,nodelist = [1,3],arrows=None, node_color=\"tab:red\",with_labels=False) # add red color\n",
    "labels = {1:'1',3:'2'}          # label sources\n",
    "description = nx.draw_networkx_labels(G,pos=pos,labels=labels)    # plot sources' number\n",
    "plt.savefig('output.png')"
   ]
  },
  {
   "cell_type": "code",
   "execution_count": 117,
   "metadata": {},
   "outputs": [],
   "source": [
    "# recursion permutation\n",
    "def all_perms(elements):\n",
    "    if len(elements) <=1:\n",
    "        yield elements\n",
    "    else:\n",
    "        for perm in all_perms(elements[1:]):\n",
    "            for i in range(len(elements)):\n",
    "                yield perm[:i] + elements[0:1] + perm[i:]\n",
    "                \n",
    "\n",
    "                \n",
    "                          \n",
    "                "
   ]
  },
  {
   "cell_type": "code",
   "execution_count": 118,
   "metadata": {},
   "outputs": [
    {
     "name": "stdout",
     "output_type": "stream",
     "text": [
      "[4] element1\n",
      "[1, 2, 3, 4]\n",
      "[2, 1, 3, 4]\n",
      "[2, 3, 1, 4]\n",
      "[2, 3, 4, 1]\n",
      "[1, 3, 2, 4]\n",
      "[3, 1, 2, 4]\n",
      "[3, 2, 1, 4]\n",
      "[3, 2, 4, 1]\n",
      "[1, 3, 4, 2]\n",
      "[3, 1, 4, 2]\n",
      "[3, 4, 1, 2]\n",
      "[3, 4, 2, 1]\n",
      "[1, 2, 4, 3]\n",
      "[2, 1, 4, 3]\n",
      "[2, 4, 1, 3]\n",
      "[2, 4, 3, 1]\n",
      "[1, 4, 2, 3]\n",
      "[4, 1, 2, 3]\n",
      "[4, 2, 1, 3]\n",
      "[4, 2, 3, 1]\n",
      "[1, 4, 3, 2]\n",
      "[4, 1, 3, 2]\n",
      "[4, 3, 1, 2]\n",
      "[4, 3, 2, 1]\n"
     ]
    },
    {
     "data": {
      "text/plain": [
       "[[1, 2, 3, 4],\n",
       " [2, 1, 3, 4],\n",
       " [2, 3, 1, 4],\n",
       " [2, 3, 4, 1],\n",
       " [1, 3, 2, 4],\n",
       " [3, 1, 2, 4],\n",
       " [3, 2, 1, 4],\n",
       " [3, 2, 4, 1],\n",
       " [1, 3, 4, 2],\n",
       " [3, 1, 4, 2],\n",
       " [3, 4, 1, 2],\n",
       " [3, 4, 2, 1],\n",
       " [1, 2, 4, 3],\n",
       " [2, 1, 4, 3],\n",
       " [2, 4, 1, 3],\n",
       " [2, 4, 3, 1],\n",
       " [1, 4, 2, 3],\n",
       " [4, 1, 2, 3],\n",
       " [4, 2, 1, 3],\n",
       " [4, 2, 3, 1],\n",
       " [1, 4, 3, 2],\n",
       " [4, 1, 3, 2],\n",
       " [4, 3, 1, 2],\n",
       " [4, 3, 2, 1]]"
      ]
     },
     "execution_count": 118,
     "metadata": {},
     "output_type": "execute_result"
    }
   ],
   "source": [
    "list(all_perms([1,2,3,4]))"
   ]
  },
  {
   "cell_type": "code",
   "execution_count": 154,
   "metadata": {},
   "outputs": [],
   "source": [
    "# permutation per each round\n",
    "def permutations(iterable, r=None):\n",
    "    # permutations('ABCD', 2) --> AB AC AD BA BC BD CA CB CD DA DB DC\n",
    "    # permutations(range(3)) --> 012 021 102 120 201 210\n",
    "    pool = iterable\n",
    "    n = len(pool)\n",
    "    r = n if r is None else r\n",
    "    if r > n:\n",
    "        return\n",
    "    indices = list(range(n))\n",
    "    cycles = list(range(n, n-r, -1))\n",
    "    yield [pool[i] for i in indices[:r]]\n",
    "    while n:\n",
    "        for i in reversed(range(r)):\n",
    "            cycles[i] -= 1\n",
    "            if cycles[i] == 0:\n",
    "                indices[i:] = indices[i+1:] + indices[i:i+1]\n",
    "                cycles[i] = n - i\n",
    "            else:\n",
    "                j = cycles[i]\n",
    "                indices[i], indices[-j] = indices[-j], indices[i]\n",
    "                yield [pool[i] for i in indices[:r]]\n",
    "                break\n",
    "        else:\n",
    "            return"
   ]
  },
  {
   "cell_type": "code",
   "execution_count": 155,
   "metadata": {},
   "outputs": [
    {
     "name": "stdout",
     "output_type": "stream",
     "text": [
      "[1, 2, 3, 4]\n",
      "[1, 2, 4, 3]\n",
      "[1, 3, 2, 4]\n",
      "[1, 3, 4, 2]\n",
      "[1, 4, 2, 3]\n",
      "[1, 4, 3, 2]\n",
      "[2, 1, 3, 4]\n",
      "[2, 1, 4, 3]\n",
      "[2, 3, 1, 4]\n",
      "[2, 3, 4, 1]\n",
      "[2, 4, 1, 3]\n",
      "[2, 4, 3, 1]\n",
      "[3, 1, 2, 4]\n",
      "[3, 1, 4, 2]\n",
      "[3, 2, 1, 4]\n",
      "[3, 2, 4, 1]\n",
      "[3, 4, 1, 2]\n",
      "[3, 4, 2, 1]\n",
      "[4, 1, 2, 3]\n",
      "[4, 1, 3, 2]\n",
      "[4, 2, 1, 3]\n",
      "[4, 2, 3, 1]\n",
      "[4, 3, 1, 2]\n",
      "[4, 3, 2, 1]\n"
     ]
    }
   ],
   "source": [
    "for i in permutations([1,2,3,4]):\n",
    "    seq = i   # each sequence generate in each round\n",
    "    print(seq) # do the burning process here and break the loop if success\n",
    "    "
   ]
  },
  {
   "cell_type": "code",
   "execution_count": null,
   "metadata": {},
   "outputs": [],
   "source": []
  },
  {
   "cell_type": "code",
   "execution_count": null,
   "metadata": {},
   "outputs": [],
   "source": []
  }
 ],
 "metadata": {
  "kernelspec": {
   "display_name": "Python 3",
   "language": "python",
   "name": "python3"
  },
  "language_info": {
   "codemirror_mode": {
    "name": "ipython",
    "version": 3
   },
   "file_extension": ".py",
   "mimetype": "text/x-python",
   "name": "python",
   "nbconvert_exporter": "python",
   "pygments_lexer": "ipython3",
   "version": "3.8.5"
  }
 },
 "nbformat": 4,
 "nbformat_minor": 4
}
