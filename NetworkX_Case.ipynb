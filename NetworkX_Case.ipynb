{
 "cells": [
  {
   "cell_type": "code",
   "execution_count": 72,
   "metadata": {},
   "outputs": [],
   "source": [
    "import networkx as nx\n",
    "from numpy.linalg import matrix_power\n",
    "import numpy as np"
   ]
  },
  {
   "cell_type": "code",
   "execution_count": 73,
   "metadata": {},
   "outputs": [
    {
     "data": {
      "image/png": "[encoded data removed]",
      "text/plain": [
       "<Figure size 432x288 with 1 Axes>"
      ]
     },
     "metadata": {},
     "output_type": "display_data"
    }
   ],
   "source": [
    "g = nx.random_tree(6)\n",
    "nx.draw(g, with_labels=True, font_weight='bold')\n",
    "A = nx.adjacency_matrix(g)"
   ]
  },
  {
   "cell_type": "code",
   "execution_count": 74,
   "metadata": {},
   "outputs": [
    {
     "name": "stdout",
     "output_type": "stream",
     "text": [
      "[[0 0 1 1 0 0]\n",
      " [0 0 1 0 1 0]\n",
      " [1 1 0 0 0 1]\n",
      " [1 0 0 0 0 0]\n",
      " [0 1 0 0 0 0]\n",
      " [0 0 1 0 0 0]]\n"
     ]
    }
   ],
   "source": [
    "print(A.todense())"
   ]
  },
  {
   "cell_type": "code",
   "execution_count": 75,
   "metadata": {},
   "outputs": [],
   "source": [
    "from numpy.linalg import matrix_power\n",
    "import numpy as np\n",
    "\n",
    "def matrix_B(A,k):    # compute B = A + A^2 + A^3 + ... + A^k\n",
    "    A = A.todense()\n",
    "    n = A.shape[0]\n",
    "    B = np.zeros(A.shape)\n",
    "    for i in range(k):\n",
    "        B += matrix_power(A,k+1)\n",
    "    for i in range(n):\n",
    "        for j in range(n):\n",
    "            if B[i][j] > 0:\n",
    "                B[i][j] = 1\n",
    "    return B\n",
    "\n",
    "def max_row(B):    # return the row with max sum\n",
    "    num = 0\n",
    "    maxrow = 0\n",
    "    for i in range(B.shape[0]):\n",
    "        if np.sum(B[i]) > num:\n",
    "            num = np.sum(B[i])\n",
    "            maxrow = i\n",
    "    return maxrow"
   ]
  },
  {
   "cell_type": "code",
   "execution_count": 76,
   "metadata": {},
   "outputs": [
    {
     "name": "stdout",
     "output_type": "stream",
     "text": [
      "[[1. 1. 0. 0. 0. 1.]\n",
      " [1. 1. 0. 0. 0. 1.]\n",
      " [0. 0. 1. 1. 1. 0.]\n",
      " [0. 0. 1. 1. 1. 0.]\n",
      " [0. 0. 1. 1. 1. 0.]\n",
      " [1. 1. 0. 0. 0. 1.]]\n"
     ]
    }
   ],
   "source": [
    "B = matrix_B(A,3)\n",
    "print(B)"
   ]
  },
  {
   "cell_type": "code",
   "execution_count": 77,
   "metadata": {},
   "outputs": [
    {
     "data": {
      "text/plain": [
       "0"
      ]
     },
     "execution_count": 77,
     "metadata": {},
     "output_type": "execute_result"
    }
   ],
   "source": [
    "MaxRow(B)"
   ]
  },
  {
   "cell_type": "code",
   "execution_count": null,
   "metadata": {},
   "outputs": [],
   "source": []
  }
 ],
 "metadata": {
  "kernelspec": {
   "display_name": "Python 3",
   "language": "python",
   "name": "python3"
  },
  "language_info": {
   "codemirror_mode": {
    "name": "ipython",
    "version": 3
   },
   "file_extension": ".py",
   "mimetype": "text/x-python",
   "name": "python",
   "nbconvert_exporter": "python",
   "pygments_lexer": "ipython3",
   "version": "3.8.5"
  }
 },
 "nbformat": 4,
 "nbformat_minor": 4
}
