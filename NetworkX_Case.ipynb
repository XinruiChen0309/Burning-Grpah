{
 "cells": [
  {
   "cell_type": "code",
   "execution_count": 3,
   "metadata": {},
   "outputs": [],
   "source": [
    "import networkx as nx\n",
    "from numpy.linalg import matrix_power\n",
    "import numpy as np"
   ]
  },
  {
   "cell_type": "code",
   "execution_count": 171,
   "metadata": {},
   "outputs": [
    {
     "data": {
      "image/png": "[encoded data removed]",
      "text/plain": [
       "<Figure size 432x288 with 1 Axes>"
      ]
     },
     "metadata": {},
     "output_type": "display_data"
    }
   ],
   "source": [
    "g = nx.random_tree(8)\n",
    "nx.draw(g, with_labels=True, font_weight='bold')\n",
    "A = nx.adjacency_matrix(g)"
   ]
  },
  {
   "cell_type": "code",
   "execution_count": 172,
   "metadata": {},
   "outputs": [
    {
     "name": "stdout",
     "output_type": "stream",
     "text": [
      "[[0 0 0 0 0 1 0 0]\n",
      " [0 0 0 1 0 1 0 0]\n",
      " [0 0 0 1 1 0 0 0]\n",
      " [0 1 1 0 0 0 0 0]\n",
      " [0 0 1 0 0 0 1 0]\n",
      " [1 1 0 0 0 0 0 1]\n",
      " [0 0 0 0 1 0 0 0]\n",
      " [0 0 0 0 0 1 0 0]]\n"
     ]
    }
   ],
   "source": [
    "print(A.todense())"
   ]
  },
  {
   "cell_type": "code",
   "execution_count": 177,
   "metadata": {},
   "outputs": [],
   "source": [
    "from numpy.linalg import matrix_power\n",
    "import numpy as np\n",
    "\n",
    "def matrix_B(A,k):    # compute B = A + A^2 + A^3 + ... + A^k\n",
    "    #A = A.todense()\n",
    "    n = A.shape[0]\n",
    "    B = np.zeros(A.shape)   # B is a 2D array\n",
    "    for i in range(k):\n",
    "        B += matrix_power(A,k+1)\n",
    "    for i in range(n):\n",
    "        for j in range(n):\n",
    "            if B[i][j] > 0:\n",
    "                B[i][j] = 1\n",
    "    return B\n",
    "\n",
    "def max_row(B):    # return the row with max sum\n",
    "    num = 0\n",
    "    maxrow = 0\n",
    "    for i in range(B.shape[0]):\n",
    "        if np.sum(B[i]) > num:\n",
    "            num = np.sum(B[i])\n",
    "            maxrow = i\n",
    "    return maxrow"
   ]
  },
  {
   "cell_type": "code",
   "execution_count": 178,
   "metadata": {},
   "outputs": [
    {
     "name": "stdout",
     "output_type": "stream",
     "text": [
      "[[1. 1. 1. 0. 0. 0. 0. 1.]\n",
      " [1. 1. 1. 0. 0. 0. 1. 1.]\n",
      " [1. 1. 1. 0. 0. 0. 1. 1.]\n",
      " [0. 0. 0. 1. 1. 1. 0. 0.]\n",
      " [0. 0. 0. 1. 1. 1. 0. 0.]\n",
      " [0. 0. 0. 1. 1. 1. 0. 0.]\n",
      " [0. 1. 1. 0. 0. 0. 1. 0.]\n",
      " [1. 1. 1. 0. 0. 0. 0. 1.]]\n"
     ]
    }
   ],
   "source": [
    "B = matrix_B(A,3)\n",
    "print(B)"
   ]
  },
  {
   "cell_type": "code",
   "execution_count": 179,
   "metadata": {},
   "outputs": [
    {
     "data": {
      "text/plain": [
       "1"
      ]
     },
     "execution_count": 179,
     "metadata": {},
     "output_type": "execute_result"
    }
   ],
   "source": [
    "max_row(B) "
   ]
  },
  {
   "cell_type": "code",
   "execution_count": 173,
   "metadata": {},
   "outputs": [],
   "source": [
    "def leaves(A):    # list of node i be degree 1 \n",
    "    n = A.shape[0]\n",
    "    start = []\n",
    "    for i in range(n):\n",
    "        if np.sum(A[i]) == 1:\n",
    "            start.append(i)\n",
    "    return start    # int list\n",
    "\n",
    "def pendant_path(A,i):   # return the length of the pendant graph start from leave node i \n",
    "    n = A.shape[0]\n",
    "    length = 0        # record length\n",
    "    leave = i         \n",
    "    while True:\n",
    "        if i == leave:\n",
    "            for j in range(n):\n",
    "                if A[i,j] == 1:    # if the checking node is the first node(leave)\n",
    "                    i_last = i\n",
    "                    i = j\n",
    "                    length +=1    \n",
    "                    break\n",
    "        elif np.sum(A[i]) == 2 and A[i,i_last] == 1.0:\n",
    "            for j in range(n):\n",
    "                if A[i,j] == 1 and j != i_last:       # if the checking node is degree 2 node within\n",
    "                    i_last = i\n",
    "                    i = j\n",
    "                    length +=1\n",
    "                    break\n",
    "        else:         # break if the pendant path end with the node with degree larger than 3\n",
    "            break\n",
    "    return length\n",
    "\n",
    "def max_pendant_path(A,start):  # return the max length of pendant path in the graph given leave nodes list start\n",
    "    num = 0\n",
    "    for leave in start:\n",
    "        length = pendant_path(A,leave)\n",
    "        if length > num:\n",
    "            num = length        \n",
    "    return num\n",
    "                \n",
    "    "
   ]
  },
  {
   "cell_type": "code",
   "execution_count": 174,
   "metadata": {
    "scrolled": true
   },
   "outputs": [
    {
     "name": "stdout",
     "output_type": "stream",
     "text": [
      "<class 'numpy.matrix'>\n",
      "[[0 0 0 0 0 1 0 0]\n",
      " [0 0 0 1 0 1 0 0]\n",
      " [0 0 0 1 1 0 0 0]\n",
      " [0 1 1 0 0 0 0 0]\n",
      " [0 0 1 0 0 0 1 0]\n",
      " [1 1 0 0 0 0 0 1]\n",
      " [0 0 0 0 1 0 0 0]\n",
      " [0 0 0 0 0 1 0 0]]\n"
     ]
    },
    {
     "data": {
      "text/plain": [
       "5"
      ]
     },
     "execution_count": 174,
     "metadata": {},
     "output_type": "execute_result"
    }
   ],
   "source": [
    "A = A.todense()\n",
    "print(type(A))\n",
    "start = leaves(A)\n",
    "print(A)\n",
    "max_pendant_path(A,start)"
   ]
  },
  {
   "cell_type": "code",
   "execution_count": 22,
   "metadata": {},
   "outputs": [],
   "source": [
    "import matplotlib.pyplot as plt"
   ]
  },
  {
   "cell_type": "code",
   "execution_count": 23,
   "metadata": {},
   "outputs": [
    {
     "data": {
      "image/png": "[encoded data removed]",
      "text/plain": [
       "<Figure size 432x288 with 1 Axes>"
      ]
     },
     "metadata": {},
     "output_type": "display_data"
    }
   ],
   "source": [
    "# example\n",
    "G = nx.random_tree(5)\n",
    "nx.draw(G, with_labels=True, font_weight='bold')  # plot original graph"
   ]
  },
  {
   "cell_type": "code",
   "execution_count": 55,
   "metadata": {},
   "outputs": [
    {
     "data": {
      "image/png": "[encoded data removed]",
      "text/plain": [
       "<Figure size 432x288 with 1 Axes>"
      ]
     },
     "metadata": {},
     "output_type": "display_data"
    }
   ],
   "source": [
    "# task \n",
    "nx.draw_networkx(G, pos,arrows=None, with_labels=False)    # plot original graph\n",
    "nx.draw_networkx(G, pos,nodelist = [1,3],arrows=None, node_color=\"tab:red\",with_labels=False) # add red color\n",
    "labels = {1:'1',3:'2'}          # label sources\n",
    "description = nx.draw_networkx_labels(G,pos,labels=labels)    # plot sources' number"
   ]
  },
  {
   "cell_type": "code",
   "execution_count": null,
   "metadata": {},
   "outputs": [],
   "source": []
  }
 ],
 "metadata": {
  "kernelspec": {
   "display_name": "Python 3",
   "language": "python",
   "name": "python3"
  },
  "language_info": {
   "codemirror_mode": {
    "name": "ipython",
    "version": 3
   },
   "file_extension": ".py",
   "mimetype": "text/x-python",
   "name": "python",
   "nbconvert_exporter": "python",
   "pygments_lexer": "ipython3",
   "version": "3.8.5"
  }
 },
 "nbformat": 4,
 "nbformat_minor": 4
}
