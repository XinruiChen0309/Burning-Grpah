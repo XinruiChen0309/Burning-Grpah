{
 "cells": [
  {
   "cell_type": "code",
   "execution_count": 40,
   "metadata": {},
   "outputs": [],
   "source": [
    "import networkx as nx\n",
    "from numpy.linalg import matrix_power\n",
    "import numpy as np\n",
    "import matplotlib.pyplot as plt\n",
    "import copy as cp"
   ]
  },
  {
   "cell_type": "code",
   "execution_count": 134,
   "metadata": {},
   "outputs": [],
   "source": [
    "def isklburnable(g, k, l):\n",
    "    '''\n",
    "    g: graph with networkx form\n",
    "    k: number of sources\n",
    "    l: number of rounds\n",
    "    '''\n",
    "    \n",
    "    ############################################ Step0: get information\n",
    "    N = nx.number_of_nodes(g)\n",
    "    g_copy = cp.deepcopy(g)\n",
    "    \n",
    "    ''' '''\n",
    "    #tip1: uncomment to draw origin graph\n",
    "    print(\"0刚开始： input graph\")\n",
    "    nx.draw(g, with_labels=True, font_weight='bold')\n",
    "    plt.show()\n",
    "    ''' '''\n",
    "    ########################################### Step1: get L\n",
    "    L_list, cut = getL(g, N, l, k)\n",
    "    \n",
    "    print(cut)\n",
    "    if cut == False:\n",
    "        return np.array(L_list[0]), True\n",
    "    \n",
    "    '''\n",
    "    Or return true\n",
    "    #? what if L[0] is initially empty?\n",
    "    if len(L_list[0]) == 0:\n",
    "        L_list[0] = L_list[1] \n",
    "    '''\n",
    "    ########################################### Step2: initial\n",
    "    source = -1*np.ones(k) #burnding sequence\n",
    "    bestsequence = [[], 0] #1st entry: burning sequence; 2nd: number of burned nodes by this bs\n",
    "    \n",
    "    R_dynamic = [cp.copy(L_list[0])]\n",
    "    burned = []\n",
    "    level_burned = [] \n",
    "    \n",
    "    print(\"2.0 初始化前： \")\n",
    "    print(\"source\", source)\n",
    "    print(\"R\", R_dynamic)\n",
    "    print(\"\\n\")\n",
    "    \n",
    "    burned, source, level_burned, R_dynamic = updateR(k, L_list, g, 0, burned, source, level_burned, R_dynamic)\n",
    "    \n",
    "    print(\"2.1 初始化后： \")\n",
    "    print(\"source1\", source)\n",
    "    print(\"R1\", R_dynamic)\n",
    "    print(\"burned\", burned)\n",
    "    print(\"level_burned\", level_burned)\n",
    "    print(\"\\n\")\n",
    "    \n",
    "    ########################################### Step3: loop   \n",
    "    while len(R_dynamic) != 0:\n",
    "        \n",
    "        while len(R_dynamic[k - 1]) != 0:\n",
    "            source[k - 1] = R_dynamic[k - 1][0] # pick 1st \n",
    "            R_dynamic[k-1].remove(R_dynamic[k - 1][0]) #remove 1st\n",
    "        \n",
    "            burned.append(source[k-1]) \n",
    "            B = burned\n",
    "        \n",
    "            #burned B for rest rounds\n",
    "            for rest_rounds in range(l - k + 1):\n",
    "                B = findB(B, g)\n",
    "                if len(B) == N:\n",
    "                    return source, True\n",
    "            \n",
    "            burned.remove(source[k-1])\n",
    "            \n",
    "            if bestsequence[1] < len(B):\n",
    "                bestsequence[0] = source    \n",
    "                 \n",
    "        R_dynamic.remove(R_dynamic[k - 1])         \n",
    "        #level_burned.remove(level_burned[k-1])\n",
    "        \n",
    "        burned, source, level_burned, R_dynamic = updateR(k, L_list, g, k-2, burned, source, level_burned, R_dynamic)   \n",
    "        #(k, L_list, g, num, burned, source, level_burned, R_dynamic):\n",
    "    return bestsequence[0], False\n",
    "    \n"
   ]
  },
  {
   "cell_type": "code",
   "execution_count": 136,
   "metadata": {},
   "outputs": [],
   "source": [
    "def getL(g, N, l, k):\n",
    "    L_list = [[x for x in g.nodes() if g.degree(x)<=1]]\n",
    "    cut = False\n",
    "    num_remove = 0\n",
    "    \n",
    "    gl = cp.deepcopy(g) #used for l\n",
    "    initial = range(N) \n",
    "    for i in range(l):\n",
    "        leaves = updateL(initial, gl)\n",
    "        print(leaves)\n",
    "        initial = cp.deepcopy(leaves)\n",
    "        L_list.append(initial)\n",
    "    L_list.reverse()\n",
    "    \n",
    "    print(\"1st\", L_list)\n",
    "    \n",
    "    #TODO: fix1 initial empty\n",
    "    \n",
    "    while(len(L_list[0]) == 0):\n",
    "      L_list.remove(L_list[0])\n",
    "      num_remove = num_remove + 1\n",
    "      \n",
    "    \n",
    "    print(\"2nd\", L_list)\n",
    "    #TODO: fix3 edge case ~ 0 in 1st block, 2 in 2nd block\n",
    "    '''\n",
    "    if len(L_list) == k - 1:\n",
    "      L_list.insert(1, L_list[1])\n",
    "    print(\"3rd\", L_list)\n",
    "    '''\n",
    "    \n",
    "    #only get 1st k rows\n",
    "    if len(L_list) > k:\n",
    "      L_list = L_list[0:k] \n",
    "      if num_remove + 1 < len(L_list[0]):\n",
    "        cut = True\n",
    "    \n",
    "    print(\"1得到L\")\n",
    "    print(L_list)\n",
    "    print(\"\\n\")\n",
    "    \n",
    "    return L_list, cut\n",
    "\n",
    "def updateL(input, g):#S1 get all leaves\n",
    "    temp = [x for x in g.nodes() if g.degree(x)<=1] \n",
    "    print(\"temp\", temp)\n",
    "    #TODO:fix 2 <= 1 single node with degree 0\n",
    "    \n",
    "  #S2.1 remove leaves from graph\n",
    "    for i in range(len(temp)): \n",
    "      g.remove_node(temp[i])\n",
    "  #S2.2 return all non-leaves \n",
    "    return [x for x in input if x not in temp]"
   ]
  },
  {
   "cell_type": "code",
   "execution_count": null,
   "metadata": {},
   "outputs": [],
   "source": []
  },
  {
   "cell_type": "code",
   "execution_count": 78,
   "metadata": {},
   "outputs": [],
   "source": [
    "def findB(burned, gg):\n",
    "    '''\n",
    "        input: \n",
    "        a) burned: list of burned nodes\n",
    "        b) gg: total graph\n",
    "        output:\n",
    "        nodes_burned_till_this_round\n",
    "    '''\n",
    "    nodes_burned_till_this_round = cp.copy(burned)\n",
    "    # find all bunred vertice's neignbors\n",
    "    for this_node in burned:\n",
    "        nb_of_source = nx.all_neighbors(gg, this_node)\n",
    "            \n",
    "        for x in nb_of_source:\n",
    "            if x not in nodes_burned_till_this_round: # keep unique\n",
    "                nodes_burned_till_this_round.append(x)\n",
    "    \n",
    "    return nodes_burned_till_this_round #返回B set"
   ]
  },
  {
   "cell_type": "code",
   "execution_count": 127,
   "metadata": {},
   "outputs": [],
   "source": [
    "def updateR(k, L_list, g, num, burned, source, level_burned, R_dynamic):\n",
    "    # 0 judge and recursion\n",
    "        \n",
    "    print(\"2.0+: inside updateR\")\n",
    "    print(\"在第几层：\", num)\n",
    "    print(\"source\", source)\n",
    "    print(\"R\", R_dynamic)\n",
    "    print(\"burned\", burned)\n",
    "    print(\"level_burned\", level_burned)\n",
    "    print(\"\\n\")\n",
    "    \n",
    "    if len(R_dynamic[num]) == 0: #this row does not exist\n",
    "        if num == 0:\n",
    "            R_dynamic.remove(R_dynamic[num])\n",
    "            return burned, source, level_burned, R_dynamic\n",
    "            #或者直接停/return best\n",
    "        else:\n",
    "        # Walk up\n",
    "            R_dynamic.remove(R_dynamic[num])\n",
    "            level_burned.remove(level_burned[num - 1])\n",
    "            #upburned will replace burned\n",
    "            upburned = []\n",
    "            for i in level_burned:\n",
    "                upburned = upburned + i\n",
    "            \n",
    "            print(\"2.0+a go up\")\n",
    "            print(\"R\", R_dynamic)\n",
    "            print(\"burned\", upburned)\n",
    "            print(\"level_burned\", level_burned)\n",
    "            print(\"\\n\")\n",
    "            \n",
    "            updateR(k, L_list, g, num - 1, upburned, source, level_burned, R_dynamic)\n",
    "  \n",
    "        \n",
    "    # 1. pick burn and remove \n",
    "    source[num] = R_dynamic[num][0]\n",
    "    R_dynamic[num].remove(R_dynamic[num][0])\n",
    "    old_burned = cp.copy(burned)\n",
    "    burned.append(source[num])\n",
    "    \n",
    "    print(\"2.0++: pick source, modify R, burned\")\n",
    "    print(\"1 source\", source)\n",
    "    print(\"2 R should remove\", R_dynamic)\n",
    "    print(\"3 burned\", burned)\n",
    "    # 2. update R\n",
    "    # 2.1 get all burned nodes(B) in this round\n",
    "    B = findB(burned, g)\n",
    "\n",
    "        \n",
    "    # PS: 也可以让findB只返回新burn的vertices\n",
    "    # 2.2 burn\n",
    "    if len(level_burned) == 0:\n",
    "        level_burned.append(B)\n",
    "    else:\n",
    "        level_burned.append([node for node in B if node not in old_burned])\n",
    "    burned = B #update burn\n",
    "    \n",
    "            \n",
    "    print(\"4 B/new burned\", B)\n",
    "    print(\"5 level_burned\", level_burned)\n",
    "    \n",
    "    # 2.2 get L/B and update to the total R\n",
    "    temp = [node for node in L_list[num + 1] if node not in B]\n",
    "    \n",
    "    # \n",
    "    if len(temp) == 0:\n",
    "        for inner_num in range(num + 2, k - 1): #walk down\n",
    "            temp = [node for node in L_list[inner_num] if node not in B]\n",
    "            if len(temp) != 0:\n",
    "                break\n",
    "    R_dynamic.append(temp)\n",
    "        \n",
    "    print(\"6 R should add\", R_dynamic)\n",
    "    print(\"\\n\")\n",
    "    \n",
    "    \n",
    "    # 3. Walk down: if have not reach the k-1 level， to next level(0, 1, ..., k-2, k-1)\n",
    "    if num < k - 2: #TODO: deal with new change of L_list (and num < len(L_list) - 2)\n",
    "        print(\"2.0+b go down\")\n",
    "        updateR(k, L_list, g, num + 1, burned, source, level_burned, R_dynamic)\n",
    "            \n",
    "    return burned, source, level_burned, R_dynamic"
   ]
  },
  {
   "cell_type": "code",
   "execution_count": null,
   "metadata": {},
   "outputs": [],
   "source": []
  },
  {
   "cell_type": "code",
   "execution_count": 49,
   "metadata": {},
   "outputs": [],
   "source": [
    "g1 = nx.random_tree(9)\n",
    "g2 = nx.random_tree(9)\n",
    "g3 = nx.random_tree(9)\n",
    "g4 = nx.random_tree(9)"
   ]
  },
  {
   "cell_type": "code",
   "execution_count": 124,
   "metadata": {},
   "outputs": [
    {
     "name": "stdout",
     "output_type": "stream",
     "text": [
      "0刚开始： input graph\n"
     ]
    },
    {
     "data": {
      "image/png": "[encoded data removed]",
      "text/plain": [
       "<Figure size 432x288 with 1 Axes>"
      ]
     },
     "metadata": {},
     "output_type": "display_data"
    },
    {
     "name": "stdout",
     "output_type": "stream",
     "text": [
      "temp [1, 4, 5, 7]\n",
      "[0, 2, 3, 6, 8]\n",
      "temp [2, 6, 8]\n",
      "[0, 3]\n",
      "temp [0, 3]\n",
      "[]\n",
      "1st [[], [0, 3], [0, 2, 3, 6, 8], [1, 4, 5, 7]]\n",
      "2nd [[0, 3], [0, 2, 3, 6, 8], [1, 4, 5, 7]]\n",
      "3rd [[0, 3], [0, 2, 3, 6, 8], [1, 4, 5, 7]]\n",
      "1得到L\n",
      "[[0, 3], [0, 2, 3, 6, 8], [1, 4, 5, 7]]\n",
      "\n",
      "\n",
      "2.0 初始化前： \n",
      "source [-1. -1. -1.]\n",
      "R [[0, 3]]\n",
      "\n",
      "\n",
      "2.0+: inside updateR\n",
      "在第几层： 0\n",
      "source [-1. -1. -1.]\n",
      "R [[0, 3]]\n",
      "burned []\n",
      "level_burned []\n",
      "\n",
      "\n",
      "2.0++: pick source, modify R, burned\n",
      "1 source [ 0. -1. -1.]\n",
      "2 R should remove [[3]]\n",
      "3 burned [0.0]\n",
      "4 B/new burned [0.0, 6, 3]\n",
      "5 level_burned [[0.0, 6, 3]]\n",
      "6 R should add [[3], [2, 8]]\n",
      "\n",
      "\n",
      "2.0+b go down\n",
      "2.0+: inside updateR\n",
      "在第几层： 1\n",
      "source [ 0. -1. -1.]\n",
      "R [[3], [2, 8]]\n",
      "burned [0.0, 6, 3]\n",
      "level_burned [[0.0, 6, 3]]\n",
      "\n",
      "\n",
      "2.0++: pick source, modify R, burned\n",
      "1 source [ 0.  2. -1.]\n",
      "2 R should remove [[3], [8]]\n",
      "3 burned [0.0, 6, 3, 2.0]\n",
      "4 B/new burned [0.0, 6, 3, 2.0, 5, 8, 1, 7]\n",
      "5 level_burned [[0.0, 6, 3, 2.0], [2.0, 5, 8, 1, 7]]\n",
      "6 R should add [[3], [8], [4]]\n",
      "\n",
      "\n",
      "2.1 初始化后： \n",
      "source1 [ 0.  2. -1.]\n",
      "R1 [[3], [8], [4]]\n",
      "burned [0.0, 6, 3, 2.0]\n",
      "level_burned [[0.0, 6, 3, 2.0], [2.0, 5, 8, 1, 7]]\n",
      "\n",
      "\n",
      "(array([0., 2., 4.]), True)\n"
     ]
    }
   ],
   "source": [
    "#\n",
    "\n",
    "'''\n",
    "ans3 = isklburnable(g3, 3, 3)\n",
    "ans4 = isklburnable(g4, 3, 3)\n",
    "ans2 = isklburnable(g2, 3, 3)\n",
    "'''\n",
    "ans1 = isklburnable(g1, 3, 3)\n",
    "print(ans1)"
   ]
  },
  {
   "cell_type": "code",
   "execution_count": 87,
   "metadata": {},
   "outputs": [],
   "source": [
    "gg1 = nx.random_tree(16)\n",
    "gg2 = nx.random_tree(16)\n",
    "gg3 = nx.random_tree(16)\n",
    "gg4 = nx.random_tree(16)"
   ]
  },
  {
   "cell_type": "code",
   "execution_count": 139,
   "metadata": {},
   "outputs": [
    {
     "name": "stdout",
     "output_type": "stream",
     "text": [
      "0刚开始： input graph\n"
     ]
    },
    {
     "data": {
      "image/png": "[encoded data removed]",
      "text/plain": [
       "<Figure size 432x288 with 1 Axes>"
      ]
     },
     "metadata": {},
     "output_type": "display_data"
    },
    {
     "name": "stdout",
     "output_type": "stream",
     "text": [
      "temp [0, 1, 3, 4, 5, 9, 11, 12]\n",
      "[2, 6, 7, 8, 10, 13, 14, 15]\n",
      "temp [8, 10, 15]\n",
      "[2, 6, 7, 13, 14]\n",
      "temp [7, 13]\n",
      "[2, 6, 14]\n",
      "temp [2, 6]\n",
      "[14]\n",
      "1st [[14], [2, 6, 14], [2, 6, 7, 13, 14], [2, 6, 7, 8, 10, 13, 14, 15], [0, 1, 3, 4, 5, 9, 11, 12]]\n",
      "2nd [[14], [2, 6, 14], [2, 6, 7, 13, 14], [2, 6, 7, 8, 10, 13, 14, 15], [0, 1, 3, 4, 5, 9, 11, 12]]\n",
      "1得到L\n",
      "[[14], [2, 6, 14], [2, 6, 7, 13, 14], [2, 6, 7, 8, 10, 13, 14, 15]]\n",
      "\n",
      "\n",
      "cut\n"
     ]
    },
    {
     "data": {
      "text/plain": [
       "(array([14]), True)"
      ]
     },
     "execution_count": 139,
     "metadata": {},
     "output_type": "execute_result"
    }
   ],
   "source": [
    "gg5 = nx.random_tree(16)\n",
    "\n",
    "'''\n",
    "isklburnable(gg3, 4, 4)\n",
    "isklburnable(gg4, 4, 4)\n",
    "'''\n",
    "#isklburnable(gg1, 4, 4)\n",
    "isklburnable(gg5, 4, 4)\n"
   ]
  },
  {
   "cell_type": "code",
   "execution_count": 125,
   "metadata": {},
   "outputs": [],
   "source": [
    "f1 = nx.random_tree(25)"
   ]
  },
  {
   "cell_type": "code",
   "execution_count": 138,
   "metadata": {},
   "outputs": [
    {
     "name": "stdout",
     "output_type": "stream",
     "text": [
      "0刚开始： input graph\n"
     ]
    },
    {
     "data": {
      "image/png": "[encoded data removed]",
      "text/plain": [
       "<Figure size 432x288 with 1 Axes>"
      ]
     },
     "metadata": {},
     "output_type": "display_data"
    },
    {
     "name": "stdout",
     "output_type": "stream",
     "text": [
      "temp [1, 2, 3, 6, 7, 8, 11, 15, 16, 17, 20, 21, 23]\n",
      "[0, 4, 5, 9, 10, 12, 13, 14, 18, 19, 22, 24]\n",
      "temp [5, 10, 19, 22, 24]\n",
      "[0, 4, 9, 12, 13, 14, 18]\n",
      "temp [4, 14, 18]\n",
      "[0, 9, 12, 13]\n",
      "temp [0, 9]\n",
      "[12, 13]\n",
      "temp [12, 13]\n",
      "[]\n",
      "1st [[], [12, 13], [0, 9, 12, 13], [0, 4, 9, 12, 13, 14, 18], [0, 4, 5, 9, 10, 12, 13, 14, 18, 19, 22, 24], [1, 2, 3, 6, 7, 8, 11, 15, 16, 17, 20, 21, 23]]\n",
      "2nd [[12, 13], [0, 9, 12, 13], [0, 4, 9, 12, 13, 14, 18], [0, 4, 5, 9, 10, 12, 13, 14, 18, 19, 22, 24], [1, 2, 3, 6, 7, 8, 11, 15, 16, 17, 20, 21, 23]]\n",
      "1得到L\n",
      "[[12, 13], [0, 9, 12, 13], [0, 4, 9, 12, 13, 14, 18], [0, 4, 5, 9, 10, 12, 13, 14, 18, 19, 22, 24]]\n",
      "\n",
      "\n",
      "cut\n"
     ]
    },
    {
     "data": {
      "text/plain": [
       "(array([12, 13]), True)"
      ]
     },
     "execution_count": 138,
     "metadata": {},
     "output_type": "execute_result"
    }
   ],
   "source": [
    "isklburnable(f1, 4, 5)"
   ]
  }
 ],
 "metadata": {
  "interpreter": {
   "hash": "93d2c5fae0cb062bda0a6de842d27e3b38c21e07c668431916235054c28d155b"
  },
  "kernelspec": {
   "display_name": "Python 3.9.7 ('base')",
   "language": "python",
   "name": "python3"
  },
  "language_info": {
   "codemirror_mode": {
    "name": "ipython",
    "version": 3
   },
   "file_extension": ".py",
   "mimetype": "text/x-python",
   "name": "python",
   "nbconvert_exporter": "python",
   "pygments_lexer": "ipython3",
   "version": "3.9.7"
  },
  "orig_nbformat": 4
 },
 "nbformat": 4,
 "nbformat_minor": 2
}
