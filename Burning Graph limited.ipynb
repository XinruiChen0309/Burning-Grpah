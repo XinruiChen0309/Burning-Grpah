{
 "cells": [
  {
   "cell_type": "code",
   "execution_count": 1,
   "id": "4059f21c-9550-4f6a-bb11-0a0ae5e9ad8a",
   "metadata": {
    "tags": []
   },
   "outputs": [],
   "source": [
    "from itertools import permutations\n",
    "import numpy as np\n",
    "import math"
   ]
  },
  {
   "cell_type": "code",
   "execution_count": 2,
   "id": "6e85a33e-52c3-445c-87bd-680a14e3381b",
   "metadata": {},
   "outputs": [],
   "source": [
    "#only look at first k steps\n",
    "#visualization of a burning sequence\n",
    "#(k,l) given k vertices can burn for l rounds, and if the whole graph can be burnt.\n"
   ]
  },
  {
   "cell_type": "markdown",
   "id": "f3c07fb8-2539-408e-8ee9-5dee29ea56c3",
   "metadata": {},
   "source": [
    "Algorithms improved: only look at first k steps and return if the graph fits in the burning conjecture"
   ]
  },
  {
   "cell_type": "code",
   "execution_count": 3,
   "id": "ce03cdf7-cb4b-43cf-8f72-dcb7fb1945a7",
   "metadata": {},
   "outputs": [],
   "source": [
    "'''\n",
    "A: an adj matrix that decribes a graph\n",
    "\n",
    "\n",
    "returns the burning number of the graph described by A\n",
    "'''\n",
    "def burning_number_limited(A, k):\n",
    "    n = len(A[0])\n",
    "    if k >= n:\n",
    "        return True\n",
    "    #k = int(math.ceil(math.sqrt(n)))\n",
    "    p = []\n",
    "    for i in range(n):\n",
    "        p.append(i)\n",
    "    for i in permutations(p, k):\n",
    "        if burning_process_limited(i, A):\n",
    "            return True\n",
    "    return False"
   ]
  },
  {
   "cell_type": "code",
   "execution_count": 4,
   "id": "cd8f7702-31e2-4073-98ef-80b545fa2b9d",
   "metadata": {},
   "outputs": [],
   "source": [
    "# permutation per each round\n",
    "def permutations(iterable, r=None):\n",
    "    pool = iterable\n",
    "    n = len(pool)\n",
    "    r = n if r is None else r\n",
    "    if r > n:\n",
    "        return\n",
    "    indices = list(range(n))\n",
    "    cycles = list(range(n, n-r, -1))\n",
    "    yield [pool[i] for i in indices[:r]]\n",
    "    while n:\n",
    "        for i in reversed(range(r)):\n",
    "            cycles[i] -= 1\n",
    "            if cycles[i] == 0:\n",
    "                indices[i:] = indices[i+1:] + indices[i:i+1]\n",
    "                cycles[i] = n - i\n",
    "            else:\n",
    "                j = cycles[i]\n",
    "                indices[i], indices[-j] = indices[-j], indices[i]\n",
    "                yield [pool[i] for i in indices[:r]]\n",
    "                break\n",
    "        else:\n",
    "            return\n"
   ]
  },
  {
   "cell_type": "code",
   "execution_count": 5,
   "id": "12bf0381-7b17-49dc-b7c8-5225d72e9938",
   "metadata": {},
   "outputs": [],
   "source": [
    "'''\n",
    "burning_sequence: a list of node indexes that describes a possible sequence of burning a graph\n",
    "A: the adj matrix of the graph that is being burnt\n",
    "\n",
    "\n",
    "return true or false, whether or not the graph can be burnt within the burning conjecture\n",
    "'''\n",
    "def burning_process_limited(burning_sequence, A):\n",
    "    \n",
    "    #print('the burning sequence: ' , burning_sequence)#...............................\n",
    "    n = len(A[0])\n",
    "    bv = np.zeros(n)\n",
    "    update = np.zeros(n)\n",
    "    bn = 0\n",
    "    for x in burning_sequence: # for each source\n",
    "        #print('source', x)#............................................................\n",
    "        tmp = np.copy(bv)\n",
    "        if 0 in bv: # if the graph is not yet burnt\n",
    "            if bv[x] == 0: # if the source is not yet burnt\n",
    "                for y in range(n): # for each already burnt nodes\n",
    "                    if bv[y] > 0: \n",
    "                        for z in range(n): #burn its neigbors\n",
    "                            z = int(z)\n",
    "                            if A[y][z] == 1:\n",
    "                                tmp[z] = 1\n",
    "                        \n",
    "                bv = np.copy(tmp)\n",
    "                #print('    burned neighbors', bv)#.....................................\n",
    "                bv[x] = 1 #burn the source\n",
    "                #print('    added burning source', bv)#...................................\n",
    "            bn += 1 #increment the burning number\n",
    "            #print('    bn', bn)#..........................................................\n",
    "        else:\n",
    "            return True\n",
    "    if 0 in bv: # if the graph is not yet burnt\n",
    "        return False\n",
    "    return True"
   ]
  },
  {
   "cell_type": "code",
   "execution_count": 6,
   "id": "72b6a509-5a85-440e-b6c2-acfacf58909a",
   "metadata": {},
   "outputs": [
    {
     "data": {
      "text/plain": [
       "True"
      ]
     },
     "execution_count": 6,
     "metadata": {},
     "output_type": "execute_result"
    }
   ],
   "source": [
    "'''\n",
    "test1\n",
    "'''\n",
    "B = [[0,1,0,0,0,0], # a path with 6 nodes\n",
    "     [1,0,1,0,0,0],\n",
    "     [0,1,0,1,0,0],\n",
    "     [0,0,1,0,1,0],\n",
    "     [0,0,0,1,0,1],\n",
    "     [0,0,0,0,1,0]]\n",
    "\n",
    "burning_number_limited(B, 3)"
   ]
  },
  {
   "cell_type": "code",
   "execution_count": 9,
   "id": "e582c639-fc99-4ca7-ad49-027f4ce89c9d",
   "metadata": {},
   "outputs": [
    {
     "data": {
      "text/plain": [
       "True"
      ]
     },
     "execution_count": 9,
     "metadata": {},
     "output_type": "execute_result"
    }
   ],
   "source": [
    "'''\n",
    "test2\n",
    "'''\n",
    "# a path with n nodes\n",
    "n = 23\n",
    "A = np.zeros((n,n)) \n",
    "for i in range(n):\n",
    "    for j in range(n):\n",
    "        if abs(i - j) == 1:\n",
    "            A[i][j] = 1\n",
    "            \n",
    "\n",
    "burning_number_limited(A, 5)"
   ]
  },
  {
   "cell_type": "code",
   "execution_count": null,
   "id": "e8848872-f5c0-4516-96a9-cd9f011446ac",
   "metadata": {},
   "outputs": [],
   "source": []
  },
  {
   "cell_type": "code",
   "execution_count": null,
   "id": "2e156e12-b874-4b23-8b80-2216691510f1",
   "metadata": {},
   "outputs": [],
   "source": []
  }
 ],
 "metadata": {
  "kernelspec": {
   "display_name": "Python 3 (ipykernel)",
   "language": "python",
   "name": "python3"
  },
  "language_info": {
   "codemirror_mode": {
    "name": "ipython",
    "version": 3
   },
   "file_extension": ".py",
   "mimetype": "text/x-python",
   "name": "python",
   "nbconvert_exporter": "python",
   "pygments_lexer": "ipython3",
   "version": "3.9.7"
  }
 },
 "nbformat": 4,
 "nbformat_minor": 5
}
