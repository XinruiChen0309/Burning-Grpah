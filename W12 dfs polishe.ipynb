{
 "cells": [
  {
   "cell_type": "markdown",
   "metadata": {},
   "source": [
    "k sources, l rounds (k <= l)\n",
    "\n",
    "Li: 除去 i - 1 round leaves后剩下的node i<= l\n",
    "Bi: 距离burned过的nodes为1的nodes\n",
    "\n",
    "R1 = L1/B1 \n",
    "...\n",
    "Rl = Ll/Bl\n"
   ]
  },
  {
   "cell_type": "markdown",
   "metadata": {},
   "source": [
    "get matrix, k , l\n",
    "S0: initialize Ri by Li\n"
   ]
  },
  {
   "cell_type": "code",
   "execution_count": 1,
   "metadata": {},
   "outputs": [],
   "source": [
    "import networkx as nx\n",
    "from numpy.linalg import matrix_power\n",
    "import numpy as np\n",
    "import matplotlib.pyplot as plt\n",
    "import copy as cp"
   ]
  },
  {
   "cell_type": "markdown",
   "metadata": {},
   "source": [
    "#### 0 transfrom"
   ]
  },
  {
   "cell_type": "code",
   "execution_count": 3,
   "metadata": {},
   "outputs": [],
   "source": [
    "#generate\n",
    "g = nx.random_tree(20)\n",
    "# to adj matrix\n",
    "A = nx.adjacency_matrix(g)\n",
    "A = A.todense()\n",
    "A = np.array(A)"
   ]
  },
  {
   "cell_type": "markdown",
   "metadata": {},
   "source": [
    "## S0: build graph"
   ]
  },
  {
   "cell_type": "code",
   "execution_count": 2,
   "metadata": {},
   "outputs": [
    {
     "data": {
      "image/png": "[encoded data removed]",
      "text/plain": [
       "<Figure size 432x288 with 1 Axes>"
      ]
     },
     "metadata": {},
     "output_type": "display_data"
    }
   ],
   "source": [
    "# generate\n",
    "N = 9\n",
    "g = nx.random_tree(N)\n",
    "g_copy = cp.deepcopy(g)\n",
    "# draw \n",
    "nx.draw(g, with_labels=True, font_weight='bold')\n",
    "plt.show()"
   ]
  },
  {
   "cell_type": "markdown",
   "metadata": {},
   "source": [
    "## S1.1 Initialize Llist"
   ]
  },
  {
   "cell_type": "code",
   "execution_count": 3,
   "metadata": {},
   "outputs": [
    {
     "data": {
      "text/plain": [
       "'\\nnotimportant = range(N)\\nL_list.append(notimportant)\\nL_list\\n'"
      ]
     },
     "execution_count": 3,
     "metadata": {},
     "output_type": "execute_result"
    }
   ],
   "source": [
    "k = 3\n",
    "l = 3\n",
    "#1. list detect whether all nodes are visited\n",
    "\n",
    "L_list = []\n",
    "'''\n",
    "notimportant = range(N)\n",
    "L_list.append(notimportant)\n",
    "L_list\n",
    "'''"
   ]
  },
  {
   "cell_type": "markdown",
   "metadata": {},
   "source": [
    "## S1.2 makeLL"
   ]
  },
  {
   "cell_type": "code",
   "execution_count": 4,
   "metadata": {},
   "outputs": [
    {
     "data": {
      "image/png": "[encoded data removed]",
      "text/plain": [
       "<Figure size 432x288 with 1 Axes>"
      ]
     },
     "metadata": {},
     "output_type": "display_data"
    },
    {
     "data": {
      "text/plain": [
       "' '"
      ]
     },
     "execution_count": 4,
     "metadata": {},
     "output_type": "execute_result"
    }
   ],
   "source": [
    "def updateL(input, g):\n",
    "    '''\n",
    "    input: all vertex this level \n",
    "    1. get all leaves\n",
    "    2. delete all leaves\n",
    "    '''\n",
    "    #S1 get all leaves\n",
    "    temp = [x for x in g.nodes() if g.degree(x)==1]\n",
    "    #S2.1 remove leaves from graph\n",
    "    for i in range(len(temp)):\n",
    "        g.remove_node(temp[i])\n",
    "    #S2.2 return all non-leaves \n",
    "    return [x for x in input if x not in temp]\n",
    "\n",
    "\n",
    "g = cp.deepcopy(g_copy) #0 copy original graph\n",
    "initial = range(N) \n",
    "for i in range(l): # who decide rounds??: l\n",
    "    leaves = updateL(initial, g) #get leaves left over\n",
    "    initial = cp.deepcopy(leaves)\n",
    "    \n",
    "    L_list.append(initial)\n",
    "    #print(leaves, len(leaves))\n",
    "L_list\n",
    "''' '''#uncomment to show process graphs\n",
    "nx.draw(g, with_labels=True, font_weight='bold')\n",
    "plt.show()\n",
    "''' '''"
   ]
  },
  {
   "cell_type": "code",
   "execution_count": 6,
   "metadata": {},
   "outputs": [
    {
     "data": {
      "text/plain": [
       "[[0, 1, 2, 3, 7, 8], [0, 1, 2, 7], [0, 1]]"
      ]
     },
     "execution_count": 6,
     "metadata": {},
     "output_type": "execute_result"
    }
   ],
   "source": [
    "# reverse so the order is: 1st source, 2nd source, ... , kth source\n",
    "L_list.reverse()\n",
    "L_list\n"
   ]
  },
  {
   "cell_type": "markdown",
   "metadata": {},
   "source": [
    "## S2.0 initialize R and source"
   ]
  },
  {
   "cell_type": "code",
   "execution_count": 7,
   "metadata": {},
   "outputs": [
    {
     "data": {
      "text/plain": [
       "array([-1., -1., -1.])"
      ]
     },
     "execution_count": 7,
     "metadata": {},
     "output_type": "execute_result"
    }
   ],
   "source": [
    "'''\n",
    "1.source：\n",
    "每当找到一个source， 就更新里面的数值； 如果全burn了， 就返回source 因为他就是burning sequence\n",
    "tip： 设计一个best sequence（最短的），不能burn了返回\n",
    "2. visited：这个图的每个node有没有被burn（也可以不用）\n",
    " 0: visited; 1: unvisited \n",
    "'''\n",
    "source = -1*np.ones(k)\n",
    "visited = np.ones([N]) # 0: visited; 1: unvisited \n",
    "source"
   ]
  },
  {
   "cell_type": "markdown",
   "metadata": {},
   "source": [
    "## S2.1 update R[i+1] based on R[i]"
   ]
  },
  {
   "cell_type": "code",
   "execution_count": 8,
   "metadata": {},
   "outputs": [],
   "source": [
    "\n",
    "\n",
    "#get B \n",
    "def findB(burned, gg):\n",
    "    '''\n",
    "    burned: burned nodes in the last round； 截至到上一回合，已经被burn的nodes， 应该是list进来\n",
    "    gg: graph 我们的总图\n",
    "    '''\n",
    "    nodes_toremove = cp.copy(burned)\n",
    "    # find all bunred vertice's neignbors\n",
    "    for i in range(burned):\n",
    "        nb_of_source = nx.all_neighbors(gg, burned[i])\n",
    "        \n",
    "        for x in nb_of_source:\n",
    "            if x not in nodes_toremove: # keep unique\n",
    "                nodes_toremove.append(x)\n",
    "    \n",
    "    return nodes_toremove #返回B set\n"
   ]
  },
  {
   "cell_type": "code",
   "execution_count": 26,
   "metadata": {},
   "outputs": [
    {
     "ename": "IndexError",
     "evalue": "list index out of range",
     "output_type": "error",
     "traceback": [
      "\u001b[1;31m---------------------------------------------------------------------------\u001b[0m",
      "\u001b[1;31mIndexError\u001b[0m                                Traceback (most recent call last)",
      "\u001b[1;32mC:\\Users\\Public\\Documents\\Wondershare\\CreatorTemp/ipykernel_5476/2495118277.py\u001b[0m in \u001b[0;36m<module>\u001b[1;34m\u001b[0m\n\u001b[0;32m      4\u001b[0m \u001b[1;33m\u001b[0m\u001b[0m\n\u001b[0;32m      5\u001b[0m \u001b[1;31m#initialize source1\u001b[0m\u001b[1;33m\u001b[0m\u001b[1;33m\u001b[0m\u001b[0m\n\u001b[1;32m----> 6\u001b[1;33m \u001b[0msource\u001b[0m\u001b[1;33m[\u001b[0m\u001b[1;36m0\u001b[0m\u001b[1;33m]\u001b[0m \u001b[1;33m=\u001b[0m \u001b[0mL_list\u001b[0m\u001b[1;33m[\u001b[0m\u001b[1;36m0\u001b[0m\u001b[1;33m]\u001b[0m\u001b[1;33m[\u001b[0m\u001b[1;36m0\u001b[0m\u001b[1;33m]\u001b[0m \u001b[1;31m#record source1\u001b[0m\u001b[1;33m\u001b[0m\u001b[1;33m\u001b[0m\u001b[0m\n\u001b[0m\u001b[0;32m      7\u001b[0m \u001b[0mMark\u001b[0m\u001b[1;33m[\u001b[0m\u001b[1;36m0\u001b[0m\u001b[1;33m]\u001b[0m\u001b[1;33m[\u001b[0m\u001b[1;36m0\u001b[0m\u001b[1;33m]\u001b[0m \u001b[1;33m=\u001b[0m \u001b[1;36m0\u001b[0m \u001b[1;31m#visit source1\u001b[0m\u001b[1;33m\u001b[0m\u001b[1;33m\u001b[0m\u001b[0m\n\u001b[0;32m      8\u001b[0m \u001b[0mR_dynamic\u001b[0m\u001b[1;33m[\u001b[0m\u001b[1;36m0\u001b[0m\u001b[1;33m]\u001b[0m\u001b[1;33m.\u001b[0m\u001b[0mremove\u001b[0m\u001b[1;33m(\u001b[0m\u001b[0msource\u001b[0m\u001b[1;33m[\u001b[0m\u001b[1;36m0\u001b[0m\u001b[1;33m]\u001b[0m\u001b[1;33m)\u001b[0m \u001b[1;31m#remove\u001b[0m\u001b[1;33m\u001b[0m\u001b[1;33m\u001b[0m\u001b[0m\n",
      "\u001b[1;31mIndexError\u001b[0m: list index out of range"
     ]
    }
   ],
   "source": [
    "\n",
    "#S1 initialize\n",
    "R_dynamic = [cp.copy(L_list[0])] # list for dynamic R\n",
    "Mark = [np.ones(len(L_list[0]))] # visited signal of dynamic R\n",
    "\n",
    "bestsequence = source# need update\n",
    "g2 = cp.copy(g_copy) #复制一份原图，专门来用\n",
    "burned = []\n",
    "def updateR(num):\n",
    "    # judge and recursion\n",
    "    if sum(Mark[num]) == 0:\n",
    "        if i == 0: \n",
    "            return bestsequence\n",
    "        else:\n",
    "            Mark.remove(Mark[num])\n",
    "            R_dynamic.remove(R_dynamic[num])\n",
    "            updateR(num - 1)\n",
    "  \n",
    "    # pick burn and remove \n",
    "    source[num] = R_dynamic[num][0]\n",
    "    burned.append(source[num])\n",
    "    Mark[num][0] = 0 #??\n",
    "    R_dynamic.remove(R_dynamic[num][0])\n",
    "    \n",
    "    # update R\n",
    "    B = findB(burned, g2)\n",
    "    temp = [node for node in L_list[num] if node not in B]\n",
    "    R_dynamic.append(temp)\n",
    "    #Mark.append(np.ones(len(temp)))\n",
    "    \n",
    "    # to next level\n",
    "    if num < k - 1: \n",
    "        updateR(num + 1)\n",
    "    \n",
    "\n",
    "while len(R_dynamic[k - 1]) != 0:\n",
    "    source[k - 1] = R_dynamic[k - 1][0] # pick\n",
    "    burned.append(source[k-1])\n",
    "    R_dynamic[k-1].remove(R_dynamic[k - 1][0]) #remove\n",
    "    \n",
    "    if len(burned) == N:\n",
    "        print(source)\n",
    "    burned.remove(source[k-1])    \n",
    "         \n",
    "    \n",
    "'''\n",
    "     if len(R_dynamic[num]) == 0:\n",
    "        if i == 0: \n",
    "            return bestsequence\n",
    "        else:\n",
    "            Mark.remove(Mark[num])\n",
    "            R_dynamic.remove(R_dynamic[num])\n",
    "            updateR(num - 1)\n",
    "    \n",
    " '''     "
   ]
  },
  {
   "cell_type": "markdown",
   "metadata": {},
   "source": [
    "\n",
    "for col in range(k):#col traversal\n",
    "    \n",
    "    if R_dynamic[0] == []:\n",
    "        continue\n",
    "    source[k] = L_list[k][0]\n",
    "    \n",
    "#initialize source1\n",
    "source[0] = L_list[0][0] #record source1\n",
    "Mark[0][0] = 0 #visit source1\n",
    "R_dynamic[0].remove(source[0]) #remove\n",
    "\n",
    "g2 = cp.copy(g_copy) #复制一份原图，专门来用\n",
    "B = findB(source[0], g2)\n",
    "R_dynamic.append([node for node in L_list[1] if node not in B])\n",
    "#for i in range(k):\n",
    "    \n",
    "\n",
    "'''\n",
    "for i in range(k): #pick k sources\n",
    "    for j in range(R_list[i]):\n",
    "'''  \n",
    "    \n",
    "print(source, Mark, B)\n",
    "R_dynamic"
   ]
  }
 ],
 "metadata": {
  "interpreter": {
   "hash": "93d2c5fae0cb062bda0a6de842d27e3b38c21e07c668431916235054c28d155b"
  },
  "kernelspec": {
   "display_name": "Python 3.9.7 ('base')",
   "language": "python",
   "name": "python3"
  },
  "language_info": {
   "codemirror_mode": {
    "name": "ipython",
    "version": 3
   },
   "file_extension": ".py",
   "mimetype": "text/x-python",
   "name": "python",
   "nbconvert_exporter": "python",
   "pygments_lexer": "ipython3",
   "version": "3.9.7"
  },
  "orig_nbformat": 4
 },
 "nbformat": 4,
 "nbformat_minor": 2
}
