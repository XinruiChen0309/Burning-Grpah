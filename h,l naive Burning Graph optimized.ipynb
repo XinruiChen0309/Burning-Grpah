{
 "cells": [
  {
   "cell_type": "code",
   "execution_count": 32,
   "id": "4059f21c-9550-4f6a-bb11-0a0ae5e9ad8a",
   "metadata": {
    "tags": []
   },
   "outputs": [],
   "source": [
    "from itertools import permutations\n",
    "import numpy as np\n",
    "import math"
   ]
  },
  {
   "cell_type": "markdown",
   "id": "4e9af4a1-1e58-4fd0-9d50-193e9151e535",
   "metadata": {},
   "source": [
    "optimized burning progress, kl naive\n",
    "/ k = number of sources\n",
    "/ l = burning rounds"
   ]
  },
  {
   "cell_type": "code",
   "execution_count": 60,
   "id": "4a759bed-f10d-434f-89cf-2db8a3182c2f",
   "metadata": {},
   "outputs": [],
   "source": [
    "'''\n",
    "A: an adj matrix that decribes a graph\n",
    "\n",
    "\n",
    "returns the burning number of the graph described by A\n",
    "'''\n",
    "def burning_number_limited(A, k, l):\n",
    "    n = len(A[0])\n",
    "    if k >= n:\n",
    "        return True\n",
    "    #k = int(math.ceil(math.sqrt(n)))\n",
    "    p = []\n",
    "    for i in range(n):\n",
    "        p.append(i)\n",
    "    for i in permutations(p, k):\n",
    "        #print(\"sequence: \", i)\n",
    "        if burning(A, l, i):\n",
    "            return True\n",
    "    return False"
   ]
  },
  {
   "cell_type": "code",
   "execution_count": 62,
   "id": "656c77a3-e73f-4f6b-b4cd-2d098d2c1c91",
   "metadata": {},
   "outputs": [],
   "source": [
    "#burning process based on B\n",
    "\n",
    "def burning(A, l, burning_sequence):\n",
    "    #keep a burning list that keeps tracks of the burning state of vertices\n",
    "    #iterate through the burning sequence\n",
    "    #for each source, determine the vertices it will burn in k rounds and update bl\n",
    "    #at the end of each loop, check bl if all vertices is burned, if not return false.\n",
    "    r = l\n",
    "    n = len(A[0])\n",
    "    bl = np.zeros(n)\n",
    "    for x in burning_sequence: # for each source\n",
    "        #bl[x] = 1\n",
    "        #print('source', x)#............................................................\n",
    "        #bl = np.copy(bv)\n",
    "        if 0 in bl: \n",
    "            B = matrix_B(A,r)\n",
    "            for i in range(len(B[x])):\n",
    "                if B[x][i] == 1:\n",
    "                    bl[i] = 1\n",
    "            r -= 1\n",
    "        else:\n",
    "            #print('burned at', x)\n",
    "            return True\n",
    "    if 0 in bl: # if the graph is not yet burnt\n",
    "        return False\n",
    "    return True"
   ]
  },
  {
   "cell_type": "code",
   "execution_count": 53,
   "id": "6b27ea9f-7cd9-43a2-b752-e134b9daf5ef",
   "metadata": {},
   "outputs": [],
   "source": [
    "from numpy.linalg import matrix_power\n",
    "import numpy as np\n",
    "\n",
    "def matrix_B(A,k):    # compute B = A + A^2 + A^3 + ... + A^k\n",
    "    #A = A.todense()\n",
    "    A = np.array(A)\n",
    "    n = A.shape[0]\n",
    "    B = np.zeros(A.shape)   # B is a 2D array\n",
    "    for i in range(k):\n",
    "        B += matrix_power(A,i+1)\n",
    "    for i in range(n):\n",
    "        for j in range(n):\n",
    "            if B[i][j] > 0:\n",
    "                B[i][j] = 1\n",
    "    return B\n",
    "\n",
    "def max_row(B):    # return the row with max sum\n",
    "    num = 0\n",
    "    maxrow = 0\n",
    "    for i in range(B.shape[0]):\n",
    "        if np.sum(B[i]) > num:\n",
    "            num = np.sum(B[i])\n",
    "            maxrow = i\n",
    "    return maxrow"
   ]
  },
  {
   "cell_type": "code",
   "execution_count": 36,
   "id": "2e8a0e0c-8f46-4be8-8b0a-3b8e9a386d51",
   "metadata": {},
   "outputs": [],
   "source": [
    "# '''\n",
    "\n",
    "# to see if a graph can be burned with h vertices(all start to burn at 1st round) in k rounds\n",
    "\n",
    "# '''\n",
    "\n",
    "# def burninghl(A, h, k):\n",
    "#     B = matrix_B(A,k)\n",
    "#     for i in range(h):\n",
    "#         p.append(i)\n",
    "#     for i in permutations(p):\n",
    "#         vertical = []\n",
    "#         for j in range(h):\n",
    "#             print(type(i[j])\n",
    "#             #vertical += B [,;i[j]]\n",
    "#         if not 0 in vertial:\n",
    "#             return True\n",
    "#     return False"
   ]
  },
  {
   "cell_type": "code",
   "execution_count": 37,
   "id": "0524c197-61d4-432a-ac10-3fe4a392e26d",
   "metadata": {},
   "outputs": [],
   "source": [
    "# '''\n",
    "# test1\n",
    "# '''\n",
    "# B = [[0,1,0,0,0,0], # a path with 6 nodes\n",
    "#      [1,0,1,0,0,0],\n",
    "#      [0,1,0,1,0,0],\n",
    "#      [0,0,1,0,1,0],\n",
    "#      [0,0,0,1,0,1],\n",
    "#      [0,0,0,0,1,0]]\n",
    "\n",
    "# burning_number_limited(B, 3)"
   ]
  },
  {
   "cell_type": "code",
   "execution_count": 73,
   "id": "1ae57551-c120-4e86-a176-058147b3d4e3",
   "metadata": {},
   "outputs": [
    {
     "name": "stdout",
     "output_type": "stream",
     "text": [
      "result:  True\n",
      "runtime:  0.4520740509033203\n"
     ]
    }
   ],
   "source": [
    "'''\n",
    "test2\n",
    "'''\n",
    "#test run time\n",
    "\n",
    "import time\n",
    "\n",
    "start = time.time()\n",
    "\n",
    "# a path with n nodes\n",
    "n = 30\n",
    "A = np.zeros((n,n)) \n",
    "for i in range(n):\n",
    "    for j in range(n):\n",
    "        if abs(i - j) == 1:\n",
    "            A[i][j] = 1\n",
    "            \n",
    "\n",
    "print(\"result: \", burning_number_limited(A, 3, 7))\n",
    "end = time.time()\n",
    "print(\"runtime: \", end - start)"
   ]
  },
  {
   "cell_type": "code",
   "execution_count": 54,
   "id": "0f69e5cb-4f55-439f-921b-a659b3090c2d",
   "metadata": {},
   "outputs": [
    {
     "name": "stdout",
     "output_type": "stream",
     "text": [
      "[[0. 1. 0. 0. 0.]\n",
      " [1. 0. 1. 0. 0.]\n",
      " [0. 1. 0. 1. 0.]\n",
      " [0. 0. 1. 0. 1.]\n",
      " [0. 0. 0. 1. 0.]]\n",
      "[[1. 1. 1. 1. 0.]\n",
      " [1. 1. 1. 1. 1.]\n",
      " [1. 1. 1. 1. 1.]\n",
      " [1. 1. 1. 1. 1.]\n",
      " [0. 1. 1. 1. 1.]]\n"
     ]
    }
   ],
   "source": [
    "A = np.zeros((n,n)) \n",
    "for i in range(n):\n",
    "    for j in range(n):\n",
    "        if abs(i - j) == 1:\n",
    "            A[i][j] = 1\n",
    "            \n",
    "print(A)\n",
    "print(matrix_B(A,3))"
   ]
  },
  {
   "cell_type": "code",
   "execution_count": 70,
   "id": "fb03568a-d128-4f31-bb04-cd91884a9109",
   "metadata": {},
   "outputs": [
    {
     "name": "stdout",
     "output_type": "stream",
     "text": [
      "0.4521830081939697\n"
     ]
    }
   ],
   "source": [
    "#test run time\n",
    "\n",
    "import time\n",
    "\n",
    "start = time.time()\n",
    "burning_number_limited(A, 3, 7)\n",
    "end = time.time()\n",
    "print(end - start)"
   ]
  },
  {
   "cell_type": "code",
   "execution_count": null,
   "id": "e82eba25-7344-4bfd-80fb-e1e8f23f6bd8",
   "metadata": {},
   "outputs": [],
   "source": []
  }
 ],
 "metadata": {
  "kernelspec": {
   "display_name": "Python 3 (ipykernel)",
   "language": "python",
   "name": "python3"
  },
  "language_info": {
   "codemirror_mode": {
    "name": "ipython",
    "version": 3
   },
   "file_extension": ".py",
   "mimetype": "text/x-python",
   "name": "python",
   "nbconvert_exporter": "python",
   "pygments_lexer": "ipython3",
   "version": "3.9.7"
  }
 },
 "nbformat": 4,
 "nbformat_minor": 5
}
