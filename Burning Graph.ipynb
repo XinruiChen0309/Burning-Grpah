{
 "cells": [
  {
   "cell_type": "code",
   "execution_count": 2,
   "id": "4059f21c-9550-4f6a-bb11-0a0ae5e9ad8a",
   "metadata": {
    "tags": []
   },
   "outputs": [],
   "source": [
    "from itertools import permutations\n",
    "import numpy as np"
   ]
  },
  {
   "cell_type": "code",
   "execution_count": 3,
   "id": "279b956d-72db-478a-8dfd-b01f8eb32d61",
   "metadata": {},
   "outputs": [],
   "source": [
    "'''\n",
    "A: an adj matrix that decribes a graph\n",
    "\n",
    "\n",
    "returns the burning number of the graph described by A\n",
    "'''\n",
    "def burning_number(A):\n",
    "    n = len(A[0])\n",
    "    all_possible_burning_sequence = burning_sequences(n)\n",
    "    burning_numbers = []\n",
    "    for i in all_possible_burning_sequence:\n",
    "        burning_numbers.append(burning_process(i, A))\n",
    "    return min(burning_numbers)"
   ]
  },
  {
   "cell_type": "code",
   "execution_count": 4,
   "id": "3b99b8f4-564b-490a-98c9-d1cddbff540e",
   "metadata": {},
   "outputs": [],
   "source": [
    "'''\n",
    "n : the number of vertices in a graph\n",
    "\n",
    "\n",
    "return all possible combinations of the burning sequences of the graph\n",
    "'''\n",
    "def burning_sequences(n):\n",
    "    p = []\n",
    "    for i in range(n):\n",
    "        p.append(i)\n",
    "    return np.array(list(permutations(p, n)))"
   ]
  },
  {
   "cell_type": "code",
   "execution_count": 21,
   "id": "24180a59-a78b-47d2-b603-5f229e10b41c",
   "metadata": {},
   "outputs": [],
   "source": [
    "'''\n",
    "burning_sequence: a list of node indexes that describes a possible sequence of burning a graph\n",
    "A: the adj matrix of the graph that is being burnt\n",
    "\n",
    "\n",
    "return the number of rounds it takes to burn the graph represented by A in the given sequence\n",
    "'''\n",
    "def burning_process(burning_sequence, A):\n",
    "    \n",
    "    #print('the burning sequence: ' , burning_sequence)#...............................\n",
    "    n = len(A[0])\n",
    "    bv = np.zeros(n)\n",
    "    update = np.zeros(n)\n",
    "    bn = 0\n",
    "    for x in burning_sequence: # for each source\n",
    "        #print('source', x)#............................................................\n",
    "        tmp = np.copy(bv)\n",
    "        if 0 in bv: # if the graph is not yet burnt\n",
    "            if bv[x] == 0: # if the source is not yet burnt\n",
    "                for y in range(n): # for each already burnt nodes\n",
    "                    if bv[y] > 0: \n",
    "                        for z in range(n): #burn its neigbors\n",
    "                            z = int(z)\n",
    "                            if A[y][z] == 1:\n",
    "                                tmp[z] = 1\n",
    "                        \n",
    "                bv = np.copy(tmp)\n",
    "                #print('    burned neighbors', bv)#.....................................\n",
    "                bv[x] = 1 #burn the source\n",
    "                #print('    added burning source', bv)#...................................\n",
    "            bn += 1 #increment the burning number\n",
    "            #print('    bn', bn)#..........................................................\n",
    "    return bn"
   ]
  },
  {
   "cell_type": "code",
   "execution_count": 6,
   "id": "4159c12c-8c08-4670-8a3e-ca78aa40b653",
   "metadata": {},
   "outputs": [
    {
     "data": {
      "text/plain": [
       "3"
      ]
     },
     "execution_count": 6,
     "metadata": {},
     "output_type": "execute_result"
    }
   ],
   "source": [
    "'''\n",
    "test1\n",
    "'''\n",
    "B = [[0,1,0,0,0,0], # a path with 6 nodes\n",
    "     [1,0,1,0,0,0],\n",
    "     [0,1,0,1,0,0],\n",
    "     [0,0,1,0,1,0],\n",
    "     [0,0,0,1,0,1],\n",
    "     [0,0,0,0,1,0]]\n",
    "\n",
    "burning_number(B)"
   ]
  },
  {
   "cell_type": "code",
   "execution_count": 12,
   "id": "ec89e4bc-374b-4b4d-811f-714747da698b",
   "metadata": {},
   "outputs": [
    {
     "data": {
      "text/plain": [
       "2"
      ]
     },
     "execution_count": 12,
     "metadata": {},
     "output_type": "execute_result"
    }
   ],
   "source": [
    "'''\n",
    "test2\n",
    "'''\n",
    "# a path with n nodes\n",
    "n = 2\n",
    "A = np.zeros((n,n)) \n",
    "for i in range(n):\n",
    "    for j in range(n):\n",
    "        if abs(i - j) == 1:\n",
    "            A[i][j] = 1\n",
    "            \n",
    "\n",
    "burning_number(A)"
   ]
  },
  {
   "cell_type": "code",
   "execution_count": 10,
   "id": "87f3addd-5c5d-42a2-900a-739306817dea",
   "metadata": {},
   "outputs": [
    {
     "data": {
      "text/plain": [
       "4"
      ]
     },
     "execution_count": 10,
     "metadata": {},
     "output_type": "execute_result"
    }
   ],
   "source": [
    "'''\n",
    "test3\n",
    "'''\n",
    "#disconnected n nodes\n",
    "n = 4\n",
    "A = np.zeros((n,n)) \n",
    "\n",
    "burning_number(A)"
   ]
  },
  {
   "cell_type": "code",
   "execution_count": 22,
   "id": "5d5e7778-564d-40af-b270-b6865766aca8",
   "metadata": {},
   "outputs": [
    {
     "data": {
      "text/plain": [
       "2"
      ]
     },
     "execution_count": 22,
     "metadata": {},
     "output_type": "execute_result"
    }
   ],
   "source": [
    "'''\n",
    "test4\n",
    "'''\n",
    "# a complete graph with n nodes\n",
    "n = 5\n",
    "A = np.ones((n,n)) \n",
    "for i in range(n):\n",
    "    for j in range(n):\n",
    "        if abs(i - j) == 1:\n",
    "            A[i][j] = 1\n",
    "            \n",
    "\n",
    "burning_number(A)"
   ]
  },
  {
   "cell_type": "code",
   "execution_count": null,
   "id": "6e85a33e-52c3-445c-87bd-680a14e3381b",
   "metadata": {},
   "outputs": [],
   "source": []
  }
 ],
 "metadata": {
  "kernelspec": {
   "display_name": "Python 3 (ipykernel)",
   "language": "python",
   "name": "python3"
  },
  "language_info": {
   "codemirror_mode": {
    "name": "ipython",
    "version": 3
   },
   "file_extension": ".py",
   "mimetype": "text/x-python",
   "name": "python",
   "nbconvert_exporter": "python",
   "pygments_lexer": "ipython3",
   "version": "3.9.7"
  }
 },
 "nbformat": 4,
 "nbformat_minor": 5
}
